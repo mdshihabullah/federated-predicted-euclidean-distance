{
 "cells": [
  {
   "cell_type": "code",
   "execution_count": 1,
   "id": "3262c815",
   "metadata": {
    "scrolled": true
   },
   "outputs": [
    {
     "data": {
      "image/png": "[encoded data removed]",
      "text/plain": [
       "<Figure size 432x288 with 1 Axes>"
      ]
     },
     "metadata": {
      "needs_background": "light"
     },
     "output_type": "display_data"
    }
   ],
   "source": [
    "import math\n",
    "import numpy as np\n",
    "import pandas as pd\n",
    "from scipy.spatial.distance import cdist\n",
    "from sklearn.metrics.pairwise import euclidean_distances\n",
    "from scipy.stats import pearsonr\n",
    "import matplotlib.pyplot as plt\n",
    "# seed random number generator\n",
    "np.random.seed(666)\n",
    "# prepare data\n",
    "x = np.random.randn(15)\n",
    "y = x + np.random.randn(15)\n",
    "# plot x and y\n",
    "plt.scatter(x, y)\n",
    "plt.plot(np.unique(x), np.poly1d(np.polyfit(x, y, 1))(np.unique(x)))\n",
    "plt.xlabel('x')\n",
    "plt.ylabel('y')\n",
    "plt.show()"
   ]
  },
  {
   "cell_type": "code",
   "execution_count": 2,
   "id": "cd6144d3",
   "metadata": {},
   "outputs": [],
   "source": [
    "# np.savetxt(\"x4.csv\", x, delimiter=\",\")"
   ]
  },
  {
   "cell_type": "code",
   "execution_count": 3,
   "id": "e74cd2ee",
   "metadata": {},
   "outputs": [],
   "source": [
    "# np.savetxt(\"y4.csv\", y, delimiter=\",\")"
   ]
  },
  {
   "cell_type": "code",
   "execution_count": 4,
   "id": "8a3b6d7d",
   "metadata": {},
   "outputs": [],
   "source": [
    "\n",
    "# all_x = pd.read_csv(\"all_x.csv\", header=None)\n",
    "# all_x_array = np.array(all_x)\n",
    "# all_y = pd.read_csv(\"all_y.csv\", header=None)\n",
    "# all_y_array = np.array(all_y)\n",
    "# df = pd.DataFrame({\"x\" : all_x_array.flatten(), \"y\" : all_y_array.flatten()})\n",
    "# df.to_csv(\"all_xy.csv\", index=False)\n",
    "# df"
   ]
  },
  {
   "cell_type": "code",
   "execution_count": 5,
   "id": "d068e553",
   "metadata": {},
   "outputs": [],
   "source": [
    "# x_list=['x1.csv', 'x2.csv', 'x3.csv', 'x4.csv']\n",
    "# for itw in x_list:\n",
    "#     df = pd.read_csv(itw)\n",
    "#     df.to_csv('all_x.csv', mode='a', index= False)\n",
    "# y_list=['y1.csv', 'y2.csv', 'y3.csv', 'y4.csv']\n",
    "# for itw in y_list:\n",
    "#     df = pd.read_csv(itw)\n",
    "#     df.to_csv('all_y.csv', mode='a', index= False)"
   ]
  },
  {
   "cell_type": "code",
   "execution_count": 6,
   "id": "b07d1ba6",
   "metadata": {},
   "outputs": [
    {
     "data": {
      "text/plain": [
       "60"
      ]
     },
     "execution_count": 6,
     "metadata": {},
     "output_type": "execute_result"
    }
   ],
   "source": [
    "all_x = pd.read_csv(\"all_x.csv\", header=None)\n",
    "all_x_array = np.array(all_x)\n",
    "len(all_x)"
   ]
  },
  {
   "cell_type": "code",
   "execution_count": 7,
   "id": "21dc2941",
   "metadata": {
    "scrolled": true
   },
   "outputs": [
    {
     "data": {
      "text/plain": [
       "60"
      ]
     },
     "execution_count": 7,
     "metadata": {},
     "output_type": "execute_result"
    }
   ],
   "source": [
    "all_y = pd.read_csv(\"all_y.csv\", header=None)\n",
    "all_y_array = np.array(all_y)\n",
    "len(all_y)"
   ]
  },
  {
   "cell_type": "code",
   "execution_count": 8,
   "id": "b8bcce3b",
   "metadata": {},
   "outputs": [
    {
     "name": "stdout",
     "output_type": "stream",
     "text": [
      "Pearsons correlation of all x's and y's: 0.612\n"
     ]
    }
   ],
   "source": [
    "corr_all_points, _ = pearsonr(all_x_array.flatten(), all_y_array.flatten())\n",
    "print(\"Pearsons correlation of all x's and y's: %.3f\" % corr_all_points)"
   ]
  },
  {
   "cell_type": "code",
   "execution_count": 9,
   "id": "12dc2089",
   "metadata": {},
   "outputs": [],
   "source": [
    "x1 = pd.read_csv(\"x1.csv\", header=None)\n",
    "x1_array = np.array(x1)\n",
    "x2 = pd.read_csv(\"x2.csv\", header=None)\n",
    "x2_array = np.array(x2)\n",
    "x3 = pd.read_csv(\"x3.csv\", header=None)\n",
    "x3_array = np.array(x3)\n",
    "x4 = pd.read_csv(\"x4.csv\", header=None)\n",
    "x4_array = np.array(x4)\n",
    "\n",
    "y1 = pd.read_csv(\"y1.csv\", header=None)\n",
    "y1_array = np.array(y1)\n",
    "y2 = pd.read_csv(\"y2.csv\", header=None)\n",
    "y2_array = np.array(y2)\n",
    "y3 = pd.read_csv(\"y3.csv\", header=None)\n",
    "y3_array = np.array(y3)\n",
    "y4 = pd.read_csv(\"y4.csv\", header=None)\n",
    "y4_array = np.array(y4)"
   ]
  },
  {
   "cell_type": "code",
   "execution_count": 10,
   "id": "09fe9791",
   "metadata": {},
   "outputs": [
    {
     "name": "stdout",
     "output_type": "stream",
     "text": [
      "Pearsons correlation of x1 and y1: 0.863\n",
      "Pearsons correlation of x2 and y2: 0.587\n",
      "Pearsons correlation of x3 and y3: 0.487\n",
      "Pearsons correlation of x4 and y4: 0.425\n",
      "Pearsons correlation should be : 0.612\n"
     ]
    }
   ],
   "source": [
    "corr_x1_y1, _ = pearsonr(x1_array.flatten(), y1_array.flatten())\n",
    "print(\"Pearsons correlation of x1 and y1: %.3f\" % corr_x1_y1)\n",
    "\n",
    "corr_x2_y2, _ = pearsonr(x2_array.flatten(), y2_array.flatten())\n",
    "print(\"Pearsons correlation of x2 and y2: %.3f\" % corr_x2_y2)\n",
    "\n",
    "corr_x3_y3, _ = pearsonr(x3_array.flatten(), y3_array.flatten())\n",
    "print(\"Pearsons correlation of x3 and y3: %.3f\" % corr_x3_y3)\n",
    "\n",
    "corr_x4_y4, _ = pearsonr(x4_array.flatten(), y4_array.flatten())\n",
    "print(\"Pearsons correlation of x4 and y4: %.3f\" % corr_x4_y4)\n",
    "\n",
    "corr_true, _ = pearsonr(np.vstack((x1_array,x2_array,x3_array,x4_array)).flatten(), np.vstack((y1_array,y2_array,y3_array,y4_array)).flatten())\n",
    "print(\"Pearsons correlation should be : %.3f\" % corr_true)"
   ]
  },
  {
   "cell_type": "code",
   "execution_count": 11,
   "id": "c8a47152",
   "metadata": {},
   "outputs": [],
   "source": [
    "# (corr_x1_y1 + corr_x2_y2 + corr_x3_y3 + corr_x4_y4)/4"
   ]
  },
  {
   "cell_type": "code",
   "execution_count": 12,
   "id": "9b9dbc0b",
   "metadata": {},
   "outputs": [],
   "source": [
    "# def pearsonr(x, y):\n",
    "#     # Assume len(x) == len(y)\n",
    "#     n = len(x)\n",
    "#     sum_x = float(sum(x))\n",
    "#     sum_y = float(sum(y))\n",
    "#     sum_x_sq = sum(xi*xi for xi in x)\n",
    "#     sum_y_sq = sum(yi*yi for yi in y)\n",
    "#     psum = sum(xi*yi for xi, yi in zip(x, y))\n",
    "#     num = psum - (sum_x * sum_y/n)\n",
    "#     den = pow((sum_x_sq - pow(sum_x, 2) / n) * (sum_y_sq - pow(sum_y, 2) / n), 0.5)\n",
    "    \n",
    "#     if den == 0: return 0\n",
    "#     return num / den"
   ]
  },
  {
   "cell_type": "markdown",
   "id": "9cc3c67f",
   "metadata": {},
   "source": [
    "### Thoughts to work on:\n",
    "* Send n , sum_x, sum_y, sum_x_sq, sum_y_sq, psum to get_participant_data by x1,y1 x2,y2 and so on..\n",
    "* encrypt and decrypt those values before sending and using it(not needed if DP or SMPC is implemented i guess).\n",
    "* No need to broadcast"
   ]
  },
  {
   "cell_type": "code",
   "execution_count": 13,
   "id": "88fe8ba3",
   "metadata": {},
   "outputs": [],
   "source": [
    "no_of_participants = 0\n",
    "total_n = total_sum_x = total_sum_y = total_sum_x_sq = total_sum_y_sq = total_psum = 0\n",
    "\n",
    "def send_participant_data(n, sum_x, sum_y, sum_x_sq, sum_y_sq, psum):\n",
    "    global no_of_participants, total_n, total_sum_x, total_sum_y, total_sum_x_sq, total_sum_y_sq, total_psum\n",
    "    if no_of_participants < 4 :\n",
    "        total_n +=n\n",
    "        total_sum_x += sum_x\n",
    "        total_sum_y += sum_y\n",
    "        total_sum_x_sq += sum_x_sq\n",
    "        total_sum_y_sq += sum_y_sq\n",
    "        total_psum += psum\n",
    "        print(total_psum)\n",
    "        no_of_participants += 1\n",
    "        print(no_of_participants)\n",
    "    else:\n",
    "        print(\"Invalid number of participants\")      "
   ]
  },
  {
   "cell_type": "code",
   "execution_count": 14,
   "id": "7143d112",
   "metadata": {},
   "outputs": [],
   "source": [
    "def calc_federated_pearson_cofficient(total_n, total_sum_x, total_sum_y, total_sum_x_sq, total_sum_y_sq, total_psum):\n",
    "    num = total_psum - (total_sum_x * total_sum_y/total_n)\n",
    "    den = pow((total_sum_x_sq - pow(total_sum_x, 2) / total_n) * (total_sum_y_sq - pow(total_sum_y, 2) / total_n), 0.5)\n",
    "    print(num,den)\n",
    "    if den == 0: return 0\n",
    "    return num / den        "
   ]
  },
  {
   "cell_type": "code",
   "execution_count": 15,
   "id": "26cd64c3",
   "metadata": {},
   "outputs": [],
   "source": [
    "def calculate_variables(x, y):\n",
    "    # Assume len(x) == len(y)\n",
    "    n = len(x)\n",
    "    sum_x = float(sum(x))\n",
    "    sum_y = float(sum(y))\n",
    "    sum_x_sq = sum(xi*xi for xi in x)\n",
    "    sum_y_sq = sum(yi*yi for yi in y)\n",
    "    psum = sum(xi*yi for xi, yi in zip(x, y))\n",
    "#     Send all these variables to the following method to be summed for making federated calculation\n",
    "    send_participant_data(n, sum_x, sum_y, sum_x_sq, sum_y_sq, psum)\n",
    "    "
   ]
  },
  {
   "cell_type": "code",
   "execution_count": 16,
   "id": "d6b15ea4",
   "metadata": {},
   "outputs": [
    {
     "name": "stdout",
     "output_type": "stream",
     "text": [
      "15.147912164400308\n",
      "1\n",
      "26.917432666207908\n",
      "2\n",
      "33.37400862704814\n",
      "3\n",
      "38.060989662981854\n",
      "4\n",
      "Invalid number of participants\n"
     ]
    }
   ],
   "source": [
    "# Each participant calculates variables needed for Pearson's cofficient\n",
    "calculate_variables(x1_array.flatten(), y1_array.flatten())\n",
    "calculate_variables(x2_array.flatten(), y2_array.flatten())\n",
    "calculate_variables(x3_array.flatten(), y3_array.flatten())\n",
    "calculate_variables(x4_array.flatten(), y4_array.flatten())\n",
    "calculate_variables(x4_array.flatten(), y4_array.flatten())"
   ]
  },
  {
   "cell_type": "code",
   "execution_count": 17,
   "id": "18f30dbe",
   "metadata": {
    "scrolled": true
   },
   "outputs": [
    {
     "name": "stdout",
     "output_type": "stream",
     "text": [
      "37.0010589012596 60.47124469259353\n"
     ]
    },
    {
     "data": {
      "text/plain": [
       "0.6118785728548343"
      ]
     },
     "execution_count": 17,
     "metadata": {},
     "output_type": "execute_result"
    }
   ],
   "source": [
    "# After that, only cordinator calculates Pearson's cofficient\n",
    "calc_federated_pearson_cofficient(total_n, total_sum_x, total_sum_y, total_sum_x_sq, total_sum_y_sq, total_psum)"
   ]
  },
  {
   "cell_type": "code",
   "execution_count": 18,
   "id": "6c0e7227",
   "metadata": {},
   "outputs": [
    {
     "ename": "NameError",
     "evalue": "name 'sklearn_euclidean_distance' is not defined",
     "output_type": "error",
     "traceback": [
      "\u001b[1;31m---------------------------------------------------------------------------\u001b[0m",
      "\u001b[1;31mNameError\u001b[0m                                 Traceback (most recent call last)",
      "\u001b[1;32m<ipython-input-18-79e88dd00763>\u001b[0m in \u001b[0;36m<module>\u001b[1;34m\u001b[0m\n\u001b[0;32m      3\u001b[0m \u001b[0mnorm_all_y_array\u001b[0m \u001b[1;33m=\u001b[0m \u001b[0mnormalize\u001b[0m\u001b[1;33m(\u001b[0m\u001b[0mall_y_array\u001b[0m\u001b[1;33m,\u001b[0m \u001b[0maxis\u001b[0m\u001b[1;33m=\u001b[0m\u001b[1;36m0\u001b[0m\u001b[1;33m,\u001b[0m \u001b[0mnorm\u001b[0m\u001b[1;33m=\u001b[0m\u001b[1;34m'l2'\u001b[0m\u001b[1;33m)\u001b[0m\u001b[1;33m\u001b[0m\u001b[1;33m\u001b[0m\u001b[0m\n\u001b[0;32m      4\u001b[0m \u001b[1;32mwith\u001b[0m \u001b[0mnp\u001b[0m\u001b[1;33m.\u001b[0m\u001b[0mprintoptions\u001b[0m\u001b[1;33m(\u001b[0m\u001b[0mthreshold\u001b[0m\u001b[1;33m=\u001b[0m\u001b[0mnp\u001b[0m\u001b[1;33m.\u001b[0m\u001b[0minf\u001b[0m\u001b[1;33m)\u001b[0m\u001b[1;33m:\u001b[0m\u001b[1;33m\u001b[0m\u001b[1;33m\u001b[0m\u001b[0m\n\u001b[1;32m----> 5\u001b[1;33m     \u001b[0mprint\u001b[0m\u001b[1;33m(\u001b[0m\u001b[0msklearn_euclidean_distance\u001b[0m\u001b[1;33m(\u001b[0m\u001b[0mnorm_all_x_array\u001b[0m\u001b[1;33m,\u001b[0m \u001b[0mnorm_all_y_array\u001b[0m\u001b[1;33m)\u001b[0m\u001b[1;33m)\u001b[0m\u001b[1;33m\u001b[0m\u001b[1;33m\u001b[0m\u001b[0m\n\u001b[0m",
      "\u001b[1;31mNameError\u001b[0m: name 'sklearn_euclidean_distance' is not defined"
     ]
    }
   ],
   "source": [
    "from sklearn.preprocessing import normalize\n",
    "norm_all_x_array = normalize(all_x_array, axis=0, norm='l2')\n",
    "norm_all_y_array = normalize(all_y_array, axis=0, norm='l2')\n",
    "with np.printoptions(threshold=np.inf):\n",
    "    print(sklearn_euclidean_distance(norm_all_x_array, norm_all_y_array))"
   ]
  },
  {
   "cell_type": "code",
   "execution_count": null,
   "id": "24e7c249",
   "metadata": {},
   "outputs": [],
   "source": [
    "xy1 = pd.read_csv(\"xy1.csv\", header=None, skiprows=1)\n",
    "xy1_array = np.array(xy1)\n",
    "xy2 = pd.read_csv(\"xy2.csv\", header=None, skiprows=1)\n",
    "xy2_array = np.array(xy2)\n",
    "xy3 = pd.read_csv(\"xy3.csv\", header=None, skiprows=1)\n",
    "xy3_array = np.array(xy3)\n",
    "xy4 = pd.read_csv(\"xy4.csv\", header=None, skiprows=1)\n",
    "xy4_array = np.array(xy4)"
   ]
  },
  {
   "cell_type": "code",
   "execution_count": null,
   "id": "657d580a",
   "metadata": {},
   "outputs": [],
   "source": [
    "from numpy import dot\n",
    "from numpy.linalg import norm\n",
    "\n",
    "def calculate_cs_variables(x, y):\n",
    "    numerator = dot(x, y)\n",
    "    denominator = (norm(x)*norm(y))\n",
    "#     Send all these variables to the following method to be summed for making federated calculation\n",
    "    send_participant_data(numerator, denominator)\n",
    "\n",
    "no_of_cs_participants = 0\n",
    "total_numerator = total_denominator = 0\n",
    "\n",
    "def send_participant_data(numerator, denominator):\n",
    "    global no_of_cs_participants, total_numerator, total_denominator\n",
    "    if no_of_cs_participants < 4 :\n",
    "        total_numerator += numerator\n",
    "        total_denominator += denominator\n",
    "        no_of_cs_participants += 1\n",
    "        print(no_of_cs_participants)\n",
    "    else:\n",
    "        print(\"Invalid number of participants for cosine similiarity aggregated calculation\")    \n",
    "\n",
    "def calc_federated_cosine_similarity(total_numerator, total_denominator):\n",
    "    print(total_numerator,total_denominator)\n",
    "    if total_denominator == 0: return 0\n",
    "    return total_numerator / total_denominator"
   ]
  },
  {
   "cell_type": "code",
   "execution_count": null,
   "id": "a089ec80",
   "metadata": {},
   "outputs": [],
   "source": [
    "# Each participant calculates variables needed for finding Cosine Similarity\n",
    "# calculate_cs_variables(x1_array.flatten(), y1_array.flatten())\n",
    "# calculate_cs_variables(x2_array.flatten(), y2_array.flatten())\n",
    "# calculate_cs_variables(x3_array.flatten(), y3_array.flatten())\n",
    "# calculate_cs_variables(x4_array.flatten(), y4_array.flatten())\n",
    "calculate_cs_variables(x4_array.flatten(), y4_array.flatten())"
   ]
  },
  {
   "cell_type": "code",
   "execution_count": null,
   "id": "84e8bdb3",
   "metadata": {},
   "outputs": [],
   "source": [
    "# After that, only cordinator calculates the aggregated Cosine Similarity\n",
    "calc_federated_cosine_similarity(total_numerator, total_denominator)"
   ]
  },
  {
   "cell_type": "code",
   "execution_count": null,
   "id": "8c958a18",
   "metadata": {},
   "outputs": [],
   "source": [
    "from scipy.spatial.distance import cdist\n",
    "from sklearn.metrics.pairwise import cosine_similarity\n",
    "from sklearn.metrics.pairwise import pairwise_distances\n",
    "def scipy_cosine(x,y):\n",
    "    return 1. - cdist(x, y, 'cosine')\n",
    "\n",
    "# print(\"Cosine similiarity for aggregated dataset: \", cosine_similarity(all_x_array, all_y_array))\n",
    "print(\"Cosine similiarity for aggregated dataset: \", pairwise_distances(all_x_array, all_y_array, metric='cosine'))\n",
    "corr_all_points, _ = pearsonr(x4_array.flatten(), y4_array.flatten())\n",
    "print(\"Pearsons correlation of all x's and y's: %.3f\" % corr_all_points)"
   ]
  },
  {
   "cell_type": "code",
   "execution_count": 25,
   "id": "e1d3e2c1",
   "metadata": {},
   "outputs": [
    {
     "name": "stdout",
     "output_type": "stream",
     "text": [
      "Euclidean distance between A and B: 24.02467027474221\n",
      "Euclidean distance between B and C: 29.837357415604437\n",
      "Euclidean distance between A and C: 8.729841689700963\n",
      "Pairwise euclidean distance matrix of A and C: [[8.72984169]]\n"
     ]
    }
   ],
   "source": [
    "# Arbritary point from Dataset D1\n",
    "A = [-0.142359, -1.57736]\n",
    "# Arbritary point from Dataset D2\n",
    "C = [0.283262, -10.296820]\n",
    "# Common spike-in point artificially created and available in both D1 and D2\n",
    "B = [19, 12.940039]\n",
    "\n",
    "AB = math.dist(A,B)\n",
    "BC = math.dist(B,C)\n",
    "AC = math.dist(A,C)\n",
    "\n",
    "print(\"Euclidean distance between A and B:\", AB)\n",
    "print(\"Euclidean distance between B and C:\", BC)\n",
    "print(\"Euclidean distance between A and C:\", AC)\n",
    "print(\"Pairwise euclidean distance matrix of A and C:\", euclidean_distances([A],[C]))"
   ]
  },
  {
   "cell_type": "code",
   "execution_count": 26,
   "id": "eec4c246",
   "metadata": {},
   "outputs": [
    {
     "name": "stdout",
     "output_type": "stream",
     "text": [
      "angle_ABC: 0.2488278471692767\n",
      "(m_BC*m_AB) 0.941543995487197\n",
      "theta:  0.2438751565626084\n",
      "Euclidean distance between A and C: 8.729841689700953\n"
     ]
    }
   ],
   "source": [
    "m_AB = (B[1] - A[1])/(B[0] - A[0])\n",
    "m_BC = (B[1] - C[1])/(B[0] - C[0])\n",
    "\n",
    "angle_ABC = (m_BC - m_AB)/(1 + (m_BC*m_AB))\n",
    "print(\"angle_ABC:\",angle_ABC)\n",
    "print(\"(m_BC*m_AB)\",m_BC*m_AB)\n",
    "theta = 0;\n",
    "if (m_BC*m_AB) == -1:\n",
    "    theta = 90\n",
    "elif (angle_ABC > 0):\n",
    "    theta = np.arctan(angle_ABC)\n",
    "elif (angle_ABC < 0):\n",
    "#     theta = math.pi + np.arctan(angle_ABC)\n",
    "    theta = np.arctan(angle_ABC)\n",
    "print(\"theta: \",theta)\n",
    "\n",
    "alternative_AC = np.sqrt((AB*AB) + (BC*BC) - ((2*AB)*BC*math.cos(theta)))\n",
    "print(\"Euclidean distance between A and C:\", alternative_AC)"
   ]
  },
  {
   "cell_type": "code",
   "execution_count": 27,
   "id": "7e6d8754",
   "metadata": {},
   "outputs": [
    {
     "data": {
      "text/plain": [
       "8.729841689700953"
      ]
     },
     "execution_count": 27,
     "metadata": {},
     "output_type": "execute_result"
    }
   ],
   "source": [
    "alternative_AC = np.sqrt((AB*AB) + (BC*BC) - ((2*AB)*BC*math.cos(theta)))\n",
    "alternative_AC"
   ]
  },
  {
   "cell_type": "code",
   "execution_count": 28,
   "id": "df13e374",
   "metadata": {},
   "outputs": [],
   "source": [
    "def federated_euclidean_dist_AC(AB, BC, m_AB, m_BC):\n",
    "    angle_ABC = (m_BC - m_AB)/(1 + (m_BC*m_AB))\n",
    "    theta = 0;\n",
    "    if (m_BC*m_AB) == -1:\n",
    "        theta = 90\n",
    "    elif (angle_ABC > 0):\n",
    "        theta = np.arctan(angle_ABC)\n",
    "    elif (angle_ABC < 0):\n",
    "#         theta = math.pi + np.arctan(angle_ABC)\n",
    "        theta = np.arctan(angle_ABC)\n",
    "    return np.sqrt((AB*AB) + (BC*BC) - ((2*AB)*BC*math.cos(theta)))\n",
    "    "
   ]
  },
  {
   "cell_type": "code",
   "execution_count": 32,
   "id": "42289bec",
   "metadata": {},
   "outputs": [
    {
     "data": {
      "text/plain": [
       "-1.5773599999999988"
      ]
     },
     "execution_count": 32,
     "metadata": {},
     "output_type": "execute_result"
    }
   ],
   "source": [
    "B[1] - (m_AB * (B[0] - A[0]))"
   ]
  },
  {
   "cell_type": "code",
   "execution_count": null,
   "id": "ee847304",
   "metadata": {},
   "outputs": [],
   "source": [
    "def calculate_ed_variables(x_array, y_array):\n",
    "    # Common spike-in point artificially created and available all dataset\n",
    "    B = [19, 12.940039]\n",
    "    distance_with_B = (math.dist([x,y],B) for x, y in zip(x_array, y_array)))\n",
    "#     Send all these variables to the following method to be summed for making federated calculation\n",
    "    send_participant_data(n, sum_x, sum_y, sum_x_sq, sum_y_sq, psum)"
   ]
  }
 ],
 "metadata": {
  "kernelspec": {
   "display_name": "Python 3",
   "language": "python",
   "name": "python3"
  },
  "language_info": {
   "codemirror_mode": {
    "name": "ipython",
    "version": 3
   },
   "file_extension": ".py",
   "mimetype": "text/x-python",
   "name": "python",
   "nbconvert_exporter": "python",
   "pygments_lexer": "ipython3",
   "version": "3.9.7"
  }
 },
 "nbformat": 4,
 "nbformat_minor": 5
}
