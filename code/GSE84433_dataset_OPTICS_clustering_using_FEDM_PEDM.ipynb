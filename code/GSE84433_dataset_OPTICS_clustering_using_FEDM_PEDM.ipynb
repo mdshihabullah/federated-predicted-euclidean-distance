{
 "cells": [
  {
   "cell_type": "code",
   "execution_count": 1,
   "id": "a388d9ef",
   "metadata": {},
   "outputs": [],
   "source": [
    "import numpy as np\n",
    "import pandas as pd\n",
    "from sklearn.datasets import make_blobs\n",
    "from sklearn.metrics.pairwise import euclidean_distances\n",
    "from sklearn.linear_model import LinearRegression, HuberRegressor, TheilSenRegressor\n",
    "from sklearn.cluster import AgglomerativeClustering, DBSCAN, MeanShift, AffinityPropagation, OPTICS\n",
    "from sklearn.decomposition import PCA\n",
    "from sklearn.metrics import confusion_matrix, accuracy_score, f1_score, silhouette_score, calinski_harabasz_score,davies_bouldin_score\n",
    "from sklearn.metrics.cluster import adjusted_rand_score, adjusted_mutual_info_score\n",
    "from scipy.linalg import block_diag\n",
    "import matplotlib.pyplot as plt\n",
    "import seaborn as sns"
   ]
  },
  {
   "cell_type": "code",
   "execution_count": 2,
   "id": "1f4d9bf5",
   "metadata": {},
   "outputs": [],
   "source": [
    "def generate_clustered_dataset(dimension,total_no_samples,no_of_cluster, random_state):\n",
    "    clustered_dataset, true_label, centroids = make_blobs(n_samples=total_no_samples,\n",
    "                                                          n_features=dimension, \n",
    "                                                          centers=no_of_cluster,\n",
    "                                                          return_centers=True, \n",
    "                                                          random_state=random_state) #check randomstate =80\n",
    "    return clustered_dataset, true_label, centroids\n",
    "\n",
    "\n",
    "def plot3dwithspike(width, height, title, datapoints, spikes, myLabel=None) :\n",
    "    plt.figure(figsize=(width,height))\n",
    "    plt.title(title, fontsize='medium')\n",
    "    ax = plt.axes(projection='3d')\n",
    "    ax.scatter3D(datapoints[:, 0], datapoints[:,1], datapoints[:,2], c=myLabel, marker='o',  s=15, edgecolor='k')\n",
    "    ax.scatter3D(spikes[:, 0], spikes[:, 1], spikes[:, 2], s = 80, color = 'k')\n",
    "    plt.show()\n",
    "    \n",
    "def plotDistanceMatrix(distmat, title):\n",
    "    ax = plt.axes()\n",
    "    sns.heatmap(distmat, ax = ax)\n",
    "    ax.set_title(title)\n",
    "    plt.show()\n",
    "    \n",
    "def plotClusteringResult(width, height, title, label, labels_by_model, clustered_dataset, spikes):\n",
    "    plt.figure(figsize=(width,height))\n",
    "    plt.subplots_adjust(bottom=.05, top=.9, left=.05, right=.95)\n",
    "    plt.subplot(325)\n",
    "    plt.title(title, fontsize='medium')\n",
    "    for i in labels_by_model:\n",
    "        plt.scatter(clustered_dataset[label == i , 0] , clustered_dataset[label == i , 1] , label = i)\n",
    "    plt.scatter(spikes[:,0] , spikes[:,1] , s = 80, color = 'k')\n",
    "    plt.legend()\n",
    "    plt.show()\n",
    "    \n",
    "def calc_fed_euc_dist(sldm_array):\n",
    "    combined_eucl = np.concatenate(sldm_array)\n",
    "    # rows are s1,s2..sn while columns are datapoints\n",
    "    print(combined_eucl)\n",
    "    # computing the distance of distance (e.g.: meta-distance)\n",
    "    # number of all samples * number of all samples\n",
    "    return euclidean_distances(combined_eucl)\n",
    "\n",
    "def regression_per_client(data, euc_dist_data_spike, regressor=\"Huber\"):\n",
    "    euc_dist_data = euclidean_distances(data).flatten()\n",
    "    local_fed_dist = np.array(calc_fed_euc_dist([euc_dist_data_spike]).flatten()).reshape((-1,1))\n",
    "    if regressor == \"Huber\":\n",
    "        model = HuberRegressor().fit(local_fed_dist,euc_dist_data)\n",
    "        return [model.coef_.item(),model.intercept_]\n",
    "    if regressor == \"Linear\":\n",
    "        model = LinearRegression().fit(local_fed_dist,euc_dist_data)\n",
    "        return [model.coef_.item(),model.intercept_]\n",
    "    if regressor == \"TheilSen\":\n",
    "        model = TheilSenRegressor().fit(local_fed_dist,euc_dist_data)\n",
    "        return [model.coef_.item(),model.intercept_]\n",
    "\n",
    "def generate_spikes_each_participant(dataset, reduce= 1):\n",
    "    dimension = dataset.shape[1]\n",
    "    row_size = np.floor((np.sqrt(dimension))/reduce).astype(int) if np.floor(np.sqrt(dimension)).astype(int) < np.floor(np.sqrt(dataset.shape[0])).astype(int) else np.floor((np.sqrt(dataset.shape[0]))/reduce).astype(int) \n",
    "    generated_spikes = np.random.uniform(low=np.min(dataset, axis=0),\n",
    "                                         high=np.max(dataset, axis=0),\n",
    "                                         size=(row_size, dimension))\n",
    "    return generated_spikes"
   ]
  },
  {
   "cell_type": "code",
   "execution_count": 3,
   "id": "46f83b2b",
   "metadata": {},
   "outputs": [
    {
     "data": {
      "text/plain": [
       "(357, 48708)"
      ]
     },
     "execution_count": 3,
     "metadata": {},
     "output_type": "execute_result"
    }
   ],
   "source": [
    "clustered_dataset = pd.read_csv(r'C:\\Users\\christina\\Documents\\Thesis\\Resources\\Datasets\\GSE84433_series_matrix.txt', comment='!', sep=\"\\t\", header=0)\n",
    "clustered_dataset = clustered_dataset.T\n",
    "clustered_dataset.dropna(inplace=True)\n",
    "clustered_dataset, clustered_dataset.columns = clustered_dataset[1:] , clustered_dataset.iloc[0]\n",
    "true_label = clustered_dataset.iloc[:,0].astype('category').cat.codes\n",
    "# clustered_dataset = clustered_dataset.drop(columns=\"ID_REF\")\n",
    "# clustered_dataset = clustered_dataset.iloc[1: , :]\n",
    "# clustered_dataset = clustered_dataset.to_numpy(dtype='float64')\n",
    "\n",
    "clustered_dataset[clustered_dataset.iloc[:,0]== \"GSM2235696\"]\n",
    "clustered_dataset.shape"
   ]
  },
  {
   "cell_type": "code",
   "execution_count": 4,
   "id": "65828b61",
   "metadata": {},
   "outputs": [
    {
     "data": {
      "text/plain": [
       "32"
      ]
     },
     "execution_count": 4,
     "metadata": {},
     "output_type": "execute_result"
    }
   ],
   "source": [
    "len(true_label.unique())"
   ]
  },
  {
   "cell_type": "code",
   "execution_count": 5,
   "id": "a10ff0c4",
   "metadata": {},
   "outputs": [
    {
     "data": {
      "text/plain": [
       "(178, 48708)"
      ]
     },
     "execution_count": 5,
     "metadata": {},
     "output_type": "execute_result"
    }
   ],
   "source": [
    "D1,D2 = np.array_split(clustered_dataset, 2)\n",
    "# D1 = D1.to_numpy()\n",
    "# D2 = D2.to_numpy()\n",
    "D2.shape"
   ]
  },
  {
   "cell_type": "markdown",
   "id": "dbb005ad",
   "metadata": {},
   "source": [
    "### Participant Based Computation"
   ]
  },
  {
   "cell_type": "code",
   "execution_count": 6,
   "id": "e12d1393",
   "metadata": {},
   "outputs": [
    {
     "ename": "KeyboardInterrupt",
     "evalue": "",
     "output_type": "error",
     "traceback": [
      "\u001b[1;31m---------------------------------------------------------------------------\u001b[0m",
      "\u001b[1;31mKeyboardInterrupt\u001b[0m                         Traceback (most recent call last)",
      "\u001b[1;32m<ipython-input-6-0a748c00427c>\u001b[0m in \u001b[0;36m<module>\u001b[1;34m\u001b[0m\n\u001b[0;32m      1\u001b[0m \u001b[1;31m# Each participant generates random spike in points\u001b[0m\u001b[1;33m\u001b[0m\u001b[1;33m\u001b[0m\u001b[0m\n\u001b[0;32m      2\u001b[0m \u001b[1;31m# which in production environment will be shared to coordinator for creating overall spike array\u001b[0m\u001b[1;33m\u001b[0m\u001b[1;33m\u001b[0m\u001b[0m\n\u001b[1;32m----> 3\u001b[1;33m \u001b[0mgenerated_spikes_D1\u001b[0m \u001b[1;33m=\u001b[0m \u001b[0mgenerate_spikes_each_participant\u001b[0m\u001b[1;33m(\u001b[0m\u001b[0mD1\u001b[0m\u001b[1;33m)\u001b[0m\u001b[1;33m\u001b[0m\u001b[1;33m\u001b[0m\u001b[0m\n\u001b[0m\u001b[0;32m      4\u001b[0m \u001b[0mgenerated_spikes_D2\u001b[0m \u001b[1;33m=\u001b[0m \u001b[0mgenerate_spikes_each_participant\u001b[0m\u001b[1;33m(\u001b[0m\u001b[0mD2\u001b[0m\u001b[1;33m)\u001b[0m\u001b[1;33m\u001b[0m\u001b[1;33m\u001b[0m\u001b[0m\n\u001b[0;32m      5\u001b[0m \u001b[1;33m\u001b[0m\u001b[0m\n",
      "\u001b[1;32m<ipython-input-2-9ec2d3798b96>\u001b[0m in \u001b[0;36mgenerate_spikes_each_participant\u001b[1;34m(dataset, reduce)\u001b[0m\n\u001b[0;32m     58\u001b[0m     \u001b[0mrow_size\u001b[0m \u001b[1;33m=\u001b[0m \u001b[0mnp\u001b[0m\u001b[1;33m.\u001b[0m\u001b[0mfloor\u001b[0m\u001b[1;33m(\u001b[0m\u001b[1;33m(\u001b[0m\u001b[0mnp\u001b[0m\u001b[1;33m.\u001b[0m\u001b[0msqrt\u001b[0m\u001b[1;33m(\u001b[0m\u001b[0mdimension\u001b[0m\u001b[1;33m)\u001b[0m\u001b[1;33m)\u001b[0m\u001b[1;33m/\u001b[0m\u001b[0mreduce\u001b[0m\u001b[1;33m)\u001b[0m\u001b[1;33m.\u001b[0m\u001b[0mastype\u001b[0m\u001b[1;33m(\u001b[0m\u001b[0mint\u001b[0m\u001b[1;33m)\u001b[0m \u001b[1;32mif\u001b[0m \u001b[0mnp\u001b[0m\u001b[1;33m.\u001b[0m\u001b[0mfloor\u001b[0m\u001b[1;33m(\u001b[0m\u001b[0mnp\u001b[0m\u001b[1;33m.\u001b[0m\u001b[0msqrt\u001b[0m\u001b[1;33m(\u001b[0m\u001b[0mdimension\u001b[0m\u001b[1;33m)\u001b[0m\u001b[1;33m)\u001b[0m\u001b[1;33m.\u001b[0m\u001b[0mastype\u001b[0m\u001b[1;33m(\u001b[0m\u001b[0mint\u001b[0m\u001b[1;33m)\u001b[0m \u001b[1;33m<\u001b[0m \u001b[0mnp\u001b[0m\u001b[1;33m.\u001b[0m\u001b[0mfloor\u001b[0m\u001b[1;33m(\u001b[0m\u001b[0mnp\u001b[0m\u001b[1;33m.\u001b[0m\u001b[0msqrt\u001b[0m\u001b[1;33m(\u001b[0m\u001b[0mdataset\u001b[0m\u001b[1;33m.\u001b[0m\u001b[0mshape\u001b[0m\u001b[1;33m[\u001b[0m\u001b[1;36m0\u001b[0m\u001b[1;33m]\u001b[0m\u001b[1;33m)\u001b[0m\u001b[1;33m)\u001b[0m\u001b[1;33m.\u001b[0m\u001b[0mastype\u001b[0m\u001b[1;33m(\u001b[0m\u001b[0mint\u001b[0m\u001b[1;33m)\u001b[0m \u001b[1;32melse\u001b[0m \u001b[0mnp\u001b[0m\u001b[1;33m.\u001b[0m\u001b[0mfloor\u001b[0m\u001b[1;33m(\u001b[0m\u001b[1;33m(\u001b[0m\u001b[0mnp\u001b[0m\u001b[1;33m.\u001b[0m\u001b[0msqrt\u001b[0m\u001b[1;33m(\u001b[0m\u001b[0mdataset\u001b[0m\u001b[1;33m.\u001b[0m\u001b[0mshape\u001b[0m\u001b[1;33m[\u001b[0m\u001b[1;36m0\u001b[0m\u001b[1;33m]\u001b[0m\u001b[1;33m)\u001b[0m\u001b[1;33m)\u001b[0m\u001b[1;33m/\u001b[0m\u001b[0mreduce\u001b[0m\u001b[1;33m)\u001b[0m\u001b[1;33m.\u001b[0m\u001b[0mastype\u001b[0m\u001b[1;33m(\u001b[0m\u001b[0mint\u001b[0m\u001b[1;33m)\u001b[0m\u001b[1;33m\u001b[0m\u001b[1;33m\u001b[0m\u001b[0m\n\u001b[0;32m     59\u001b[0m     generated_spikes = np.random.uniform(low=np.min(dataset, axis=0),\n\u001b[1;32m---> 60\u001b[1;33m                                          \u001b[0mhigh\u001b[0m\u001b[1;33m=\u001b[0m\u001b[0mnp\u001b[0m\u001b[1;33m.\u001b[0m\u001b[0mmax\u001b[0m\u001b[1;33m(\u001b[0m\u001b[0mdataset\u001b[0m\u001b[1;33m,\u001b[0m \u001b[0maxis\u001b[0m\u001b[1;33m=\u001b[0m\u001b[1;36m0\u001b[0m\u001b[1;33m)\u001b[0m\u001b[1;33m,\u001b[0m\u001b[1;33m\u001b[0m\u001b[1;33m\u001b[0m\u001b[0m\n\u001b[0m\u001b[0;32m     61\u001b[0m                                          size=(row_size, dimension))\n\u001b[0;32m     62\u001b[0m     \u001b[1;32mreturn\u001b[0m \u001b[0mgenerated_spikes\u001b[0m\u001b[1;33m\u001b[0m\u001b[1;33m\u001b[0m\u001b[0m\n",
      "\u001b[1;32m<__array_function__ internals>\u001b[0m in \u001b[0;36mamax\u001b[1;34m(*args, **kwargs)\u001b[0m\n",
      "\u001b[1;32m~\\AppData\\Local\\Packages\\PythonSoftwareFoundation.Python.3.9_qbz5n2kfra8p0\\LocalCache\\local-packages\\Python39\\site-packages\\numpy\\core\\fromnumeric.py\u001b[0m in \u001b[0;36mamax\u001b[1;34m(a, axis, out, keepdims, initial, where)\u001b[0m\n\u001b[0;32m   2752\u001b[0m     \u001b[1;36m5\u001b[0m\u001b[1;33m\u001b[0m\u001b[1;33m\u001b[0m\u001b[0m\n\u001b[0;32m   2753\u001b[0m     \"\"\"\n\u001b[1;32m-> 2754\u001b[1;33m     return _wrapreduction(a, np.maximum, 'max', axis, None, out,\n\u001b[0m\u001b[0;32m   2755\u001b[0m                           keepdims=keepdims, initial=initial, where=where)\n\u001b[0;32m   2756\u001b[0m \u001b[1;33m\u001b[0m\u001b[0m\n",
      "\u001b[1;32m~\\AppData\\Local\\Packages\\PythonSoftwareFoundation.Python.3.9_qbz5n2kfra8p0\\LocalCache\\local-packages\\Python39\\site-packages\\numpy\\core\\fromnumeric.py\u001b[0m in \u001b[0;36m_wrapreduction\u001b[1;34m(obj, ufunc, method, axis, dtype, out, **kwargs)\u001b[0m\n\u001b[0;32m     82\u001b[0m                 \u001b[1;32mreturn\u001b[0m \u001b[0mreduction\u001b[0m\u001b[1;33m(\u001b[0m\u001b[0maxis\u001b[0m\u001b[1;33m=\u001b[0m\u001b[0maxis\u001b[0m\u001b[1;33m,\u001b[0m \u001b[0mdtype\u001b[0m\u001b[1;33m=\u001b[0m\u001b[0mdtype\u001b[0m\u001b[1;33m,\u001b[0m \u001b[0mout\u001b[0m\u001b[1;33m=\u001b[0m\u001b[0mout\u001b[0m\u001b[1;33m,\u001b[0m \u001b[1;33m**\u001b[0m\u001b[0mpasskwargs\u001b[0m\u001b[1;33m)\u001b[0m\u001b[1;33m\u001b[0m\u001b[1;33m\u001b[0m\u001b[0m\n\u001b[0;32m     83\u001b[0m             \u001b[1;32melse\u001b[0m\u001b[1;33m:\u001b[0m\u001b[1;33m\u001b[0m\u001b[1;33m\u001b[0m\u001b[0m\n\u001b[1;32m---> 84\u001b[1;33m                 \u001b[1;32mreturn\u001b[0m \u001b[0mreduction\u001b[0m\u001b[1;33m(\u001b[0m\u001b[0maxis\u001b[0m\u001b[1;33m=\u001b[0m\u001b[0maxis\u001b[0m\u001b[1;33m,\u001b[0m \u001b[0mout\u001b[0m\u001b[1;33m=\u001b[0m\u001b[0mout\u001b[0m\u001b[1;33m,\u001b[0m \u001b[1;33m**\u001b[0m\u001b[0mpasskwargs\u001b[0m\u001b[1;33m)\u001b[0m\u001b[1;33m\u001b[0m\u001b[1;33m\u001b[0m\u001b[0m\n\u001b[0m\u001b[0;32m     85\u001b[0m \u001b[1;33m\u001b[0m\u001b[0m\n\u001b[0;32m     86\u001b[0m     \u001b[1;32mreturn\u001b[0m \u001b[0mufunc\u001b[0m\u001b[1;33m.\u001b[0m\u001b[0mreduce\u001b[0m\u001b[1;33m(\u001b[0m\u001b[0mobj\u001b[0m\u001b[1;33m,\u001b[0m \u001b[0maxis\u001b[0m\u001b[1;33m,\u001b[0m \u001b[0mdtype\u001b[0m\u001b[1;33m,\u001b[0m \u001b[0mout\u001b[0m\u001b[1;33m,\u001b[0m \u001b[1;33m**\u001b[0m\u001b[0mpasskwargs\u001b[0m\u001b[1;33m)\u001b[0m\u001b[1;33m\u001b[0m\u001b[1;33m\u001b[0m\u001b[0m\n",
      "\u001b[1;32m~\\AppData\\Local\\Packages\\PythonSoftwareFoundation.Python.3.9_qbz5n2kfra8p0\\LocalCache\\local-packages\\Python39\\site-packages\\pandas\\core\\generic.py\u001b[0m in \u001b[0;36mmax\u001b[1;34m(self, axis, skipna, level, numeric_only, **kwargs)\u001b[0m\n\u001b[0;32m  11192\u001b[0m         )\n\u001b[0;32m  11193\u001b[0m         \u001b[1;32mdef\u001b[0m \u001b[0mmax\u001b[0m\u001b[1;33m(\u001b[0m\u001b[0mself\u001b[0m\u001b[1;33m,\u001b[0m \u001b[0maxis\u001b[0m\u001b[1;33m=\u001b[0m\u001b[1;32mNone\u001b[0m\u001b[1;33m,\u001b[0m \u001b[0mskipna\u001b[0m\u001b[1;33m=\u001b[0m\u001b[1;32mNone\u001b[0m\u001b[1;33m,\u001b[0m \u001b[0mlevel\u001b[0m\u001b[1;33m=\u001b[0m\u001b[1;32mNone\u001b[0m\u001b[1;33m,\u001b[0m \u001b[0mnumeric_only\u001b[0m\u001b[1;33m=\u001b[0m\u001b[1;32mNone\u001b[0m\u001b[1;33m,\u001b[0m \u001b[1;33m**\u001b[0m\u001b[0mkwargs\u001b[0m\u001b[1;33m)\u001b[0m\u001b[1;33m:\u001b[0m\u001b[1;33m\u001b[0m\u001b[1;33m\u001b[0m\u001b[0m\n\u001b[1;32m> 11194\u001b[1;33m             \u001b[1;32mreturn\u001b[0m \u001b[0mNDFrame\u001b[0m\u001b[1;33m.\u001b[0m\u001b[0mmax\u001b[0m\u001b[1;33m(\u001b[0m\u001b[0mself\u001b[0m\u001b[1;33m,\u001b[0m \u001b[0maxis\u001b[0m\u001b[1;33m,\u001b[0m \u001b[0mskipna\u001b[0m\u001b[1;33m,\u001b[0m \u001b[0mlevel\u001b[0m\u001b[1;33m,\u001b[0m \u001b[0mnumeric_only\u001b[0m\u001b[1;33m,\u001b[0m \u001b[1;33m**\u001b[0m\u001b[0mkwargs\u001b[0m\u001b[1;33m)\u001b[0m\u001b[1;33m\u001b[0m\u001b[1;33m\u001b[0m\u001b[0m\n\u001b[0m\u001b[0;32m  11195\u001b[0m \u001b[1;33m\u001b[0m\u001b[0m\n\u001b[0;32m  11196\u001b[0m         \u001b[1;31m# pandas\\core\\generic.py:10992: error: Cannot assign to a method\u001b[0m\u001b[1;33m\u001b[0m\u001b[1;33m\u001b[0m\u001b[0m\n",
      "\u001b[1;32m~\\AppData\\Local\\Packages\\PythonSoftwareFoundation.Python.3.9_qbz5n2kfra8p0\\LocalCache\\local-packages\\Python39\\site-packages\\pandas\\core\\generic.py\u001b[0m in \u001b[0;36mmax\u001b[1;34m(self, axis, skipna, level, numeric_only, **kwargs)\u001b[0m\n\u001b[0;32m  10719\u001b[0m \u001b[1;33m\u001b[0m\u001b[0m\n\u001b[0;32m  10720\u001b[0m     \u001b[1;32mdef\u001b[0m \u001b[0mmax\u001b[0m\u001b[1;33m(\u001b[0m\u001b[0mself\u001b[0m\u001b[1;33m,\u001b[0m \u001b[0maxis\u001b[0m\u001b[1;33m=\u001b[0m\u001b[1;32mNone\u001b[0m\u001b[1;33m,\u001b[0m \u001b[0mskipna\u001b[0m\u001b[1;33m=\u001b[0m\u001b[1;32mNone\u001b[0m\u001b[1;33m,\u001b[0m \u001b[0mlevel\u001b[0m\u001b[1;33m=\u001b[0m\u001b[1;32mNone\u001b[0m\u001b[1;33m,\u001b[0m \u001b[0mnumeric_only\u001b[0m\u001b[1;33m=\u001b[0m\u001b[1;32mNone\u001b[0m\u001b[1;33m,\u001b[0m \u001b[1;33m**\u001b[0m\u001b[0mkwargs\u001b[0m\u001b[1;33m)\u001b[0m\u001b[1;33m:\u001b[0m\u001b[1;33m\u001b[0m\u001b[1;33m\u001b[0m\u001b[0m\n\u001b[1;32m> 10721\u001b[1;33m         return self._stat_function(\n\u001b[0m\u001b[0;32m  10722\u001b[0m             \u001b[1;34m\"max\"\u001b[0m\u001b[1;33m,\u001b[0m \u001b[0mnanops\u001b[0m\u001b[1;33m.\u001b[0m\u001b[0mnanmax\u001b[0m\u001b[1;33m,\u001b[0m \u001b[0maxis\u001b[0m\u001b[1;33m,\u001b[0m \u001b[0mskipna\u001b[0m\u001b[1;33m,\u001b[0m \u001b[0mlevel\u001b[0m\u001b[1;33m,\u001b[0m \u001b[0mnumeric_only\u001b[0m\u001b[1;33m,\u001b[0m \u001b[1;33m**\u001b[0m\u001b[0mkwargs\u001b[0m\u001b[1;33m\u001b[0m\u001b[1;33m\u001b[0m\u001b[0m\n\u001b[0;32m  10723\u001b[0m         )\n",
      "\u001b[1;32m~\\AppData\\Local\\Packages\\PythonSoftwareFoundation.Python.3.9_qbz5n2kfra8p0\\LocalCache\\local-packages\\Python39\\site-packages\\pandas\\core\\generic.py\u001b[0m in \u001b[0;36m_stat_function\u001b[1;34m(self, name, func, axis, skipna, level, numeric_only, **kwargs)\u001b[0m\n\u001b[0;32m  10709\u001b[0m         \u001b[1;32mif\u001b[0m \u001b[0mlevel\u001b[0m \u001b[1;32mis\u001b[0m \u001b[1;32mnot\u001b[0m \u001b[1;32mNone\u001b[0m\u001b[1;33m:\u001b[0m\u001b[1;33m\u001b[0m\u001b[1;33m\u001b[0m\u001b[0m\n\u001b[0;32m  10710\u001b[0m             \u001b[1;32mreturn\u001b[0m \u001b[0mself\u001b[0m\u001b[1;33m.\u001b[0m\u001b[0m_agg_by_level\u001b[0m\u001b[1;33m(\u001b[0m\u001b[0mname\u001b[0m\u001b[1;33m,\u001b[0m \u001b[0maxis\u001b[0m\u001b[1;33m=\u001b[0m\u001b[0maxis\u001b[0m\u001b[1;33m,\u001b[0m \u001b[0mlevel\u001b[0m\u001b[1;33m=\u001b[0m\u001b[0mlevel\u001b[0m\u001b[1;33m,\u001b[0m \u001b[0mskipna\u001b[0m\u001b[1;33m=\u001b[0m\u001b[0mskipna\u001b[0m\u001b[1;33m)\u001b[0m\u001b[1;33m\u001b[0m\u001b[1;33m\u001b[0m\u001b[0m\n\u001b[1;32m> 10711\u001b[1;33m         return self._reduce(\n\u001b[0m\u001b[0;32m  10712\u001b[0m             \u001b[0mfunc\u001b[0m\u001b[1;33m,\u001b[0m \u001b[0mname\u001b[0m\u001b[1;33m=\u001b[0m\u001b[0mname\u001b[0m\u001b[1;33m,\u001b[0m \u001b[0maxis\u001b[0m\u001b[1;33m=\u001b[0m\u001b[0maxis\u001b[0m\u001b[1;33m,\u001b[0m \u001b[0mskipna\u001b[0m\u001b[1;33m=\u001b[0m\u001b[0mskipna\u001b[0m\u001b[1;33m,\u001b[0m \u001b[0mnumeric_only\u001b[0m\u001b[1;33m=\u001b[0m\u001b[0mnumeric_only\u001b[0m\u001b[1;33m\u001b[0m\u001b[1;33m\u001b[0m\u001b[0m\n\u001b[0;32m  10713\u001b[0m         )\n",
      "\u001b[1;32m~\\AppData\\Local\\Packages\\PythonSoftwareFoundation.Python.3.9_qbz5n2kfra8p0\\LocalCache\\local-packages\\Python39\\site-packages\\pandas\\core\\frame.py\u001b[0m in \u001b[0;36m_reduce\u001b[1;34m(self, op, name, axis, skipna, numeric_only, filter_type, **kwds)\u001b[0m\n\u001b[0;32m   8849\u001b[0m             \u001b[1;31m# After possibly _get_data and transposing, we are now in the\u001b[0m\u001b[1;33m\u001b[0m\u001b[1;33m\u001b[0m\u001b[0m\n\u001b[0;32m   8850\u001b[0m             \u001b[1;31m#  simple case where we can use BlockManager.reduce\u001b[0m\u001b[1;33m\u001b[0m\u001b[1;33m\u001b[0m\u001b[0m\n\u001b[1;32m-> 8851\u001b[1;33m             \u001b[0mres\u001b[0m\u001b[1;33m,\u001b[0m \u001b[0m_\u001b[0m \u001b[1;33m=\u001b[0m \u001b[0mdf\u001b[0m\u001b[1;33m.\u001b[0m\u001b[0m_mgr\u001b[0m\u001b[1;33m.\u001b[0m\u001b[0mreduce\u001b[0m\u001b[1;33m(\u001b[0m\u001b[0mblk_func\u001b[0m\u001b[1;33m,\u001b[0m \u001b[0mignore_failures\u001b[0m\u001b[1;33m=\u001b[0m\u001b[0mignore_failures\u001b[0m\u001b[1;33m)\u001b[0m\u001b[1;33m\u001b[0m\u001b[1;33m\u001b[0m\u001b[0m\n\u001b[0m\u001b[0;32m   8852\u001b[0m             \u001b[0mout\u001b[0m \u001b[1;33m=\u001b[0m \u001b[0mdf\u001b[0m\u001b[1;33m.\u001b[0m\u001b[0m_constructor\u001b[0m\u001b[1;33m(\u001b[0m\u001b[0mres\u001b[0m\u001b[1;33m)\u001b[0m\u001b[1;33m.\u001b[0m\u001b[0miloc\u001b[0m\u001b[1;33m[\u001b[0m\u001b[1;36m0\u001b[0m\u001b[1;33m]\u001b[0m\u001b[1;33m\u001b[0m\u001b[1;33m\u001b[0m\u001b[0m\n\u001b[0;32m   8853\u001b[0m             \u001b[1;32mif\u001b[0m \u001b[0mout_dtype\u001b[0m \u001b[1;32mis\u001b[0m \u001b[1;32mnot\u001b[0m \u001b[1;32mNone\u001b[0m\u001b[1;33m:\u001b[0m\u001b[1;33m\u001b[0m\u001b[1;33m\u001b[0m\u001b[0m\n",
      "\u001b[1;32m~\\AppData\\Local\\Packages\\PythonSoftwareFoundation.Python.3.9_qbz5n2kfra8p0\\LocalCache\\local-packages\\Python39\\site-packages\\pandas\\core\\internals\\managers.py\u001b[0m in \u001b[0;36mreduce\u001b[1;34m(self, func, ignore_failures)\u001b[0m\n\u001b[0;32m    352\u001b[0m         \u001b[0mres_blocks\u001b[0m\u001b[1;33m:\u001b[0m \u001b[0mList\u001b[0m\u001b[1;33m[\u001b[0m\u001b[0mBlock\u001b[0m\u001b[1;33m]\u001b[0m \u001b[1;33m=\u001b[0m \u001b[1;33m[\u001b[0m\u001b[1;33m]\u001b[0m\u001b[1;33m\u001b[0m\u001b[1;33m\u001b[0m\u001b[0m\n\u001b[0;32m    353\u001b[0m         \u001b[1;32mfor\u001b[0m \u001b[0mblk\u001b[0m \u001b[1;32min\u001b[0m \u001b[0mself\u001b[0m\u001b[1;33m.\u001b[0m\u001b[0mblocks\u001b[0m\u001b[1;33m:\u001b[0m\u001b[1;33m\u001b[0m\u001b[1;33m\u001b[0m\u001b[0m\n\u001b[1;32m--> 354\u001b[1;33m             \u001b[0mnbs\u001b[0m \u001b[1;33m=\u001b[0m \u001b[0mblk\u001b[0m\u001b[1;33m.\u001b[0m\u001b[0mreduce\u001b[0m\u001b[1;33m(\u001b[0m\u001b[0mfunc\u001b[0m\u001b[1;33m,\u001b[0m \u001b[0mignore_failures\u001b[0m\u001b[1;33m)\u001b[0m\u001b[1;33m\u001b[0m\u001b[1;33m\u001b[0m\u001b[0m\n\u001b[0m\u001b[0;32m    355\u001b[0m             \u001b[0mres_blocks\u001b[0m\u001b[1;33m.\u001b[0m\u001b[0mextend\u001b[0m\u001b[1;33m(\u001b[0m\u001b[0mnbs\u001b[0m\u001b[1;33m)\u001b[0m\u001b[1;33m\u001b[0m\u001b[1;33m\u001b[0m\u001b[0m\n\u001b[0;32m    356\u001b[0m \u001b[1;33m\u001b[0m\u001b[0m\n",
      "\u001b[1;32m~\\AppData\\Local\\Packages\\PythonSoftwareFoundation.Python.3.9_qbz5n2kfra8p0\\LocalCache\\local-packages\\Python39\\site-packages\\pandas\\core\\internals\\blocks.py\u001b[0m in \u001b[0;36mreduce\u001b[1;34m(self, func, ignore_failures)\u001b[0m\n\u001b[0;32m   2540\u001b[0m                 \u001b[1;32mreturn\u001b[0m \u001b[0mfunc\u001b[0m\u001b[1;33m(\u001b[0m\u001b[0mvalues\u001b[0m\u001b[1;33m)\u001b[0m\u001b[1;33m\u001b[0m\u001b[1;33m\u001b[0m\u001b[0m\n\u001b[0;32m   2541\u001b[0m \u001b[1;33m\u001b[0m\u001b[0m\n\u001b[1;32m-> 2542\u001b[1;33m             return self.split_and_operate(\n\u001b[0m\u001b[0;32m   2543\u001b[0m                 \u001b[1;32mNone\u001b[0m\u001b[1;33m,\u001b[0m \u001b[0mmask_func\u001b[0m\u001b[1;33m,\u001b[0m \u001b[1;32mFalse\u001b[0m\u001b[1;33m,\u001b[0m \u001b[0mignore_failures\u001b[0m\u001b[1;33m=\u001b[0m\u001b[0mignore_failures\u001b[0m\u001b[1;33m\u001b[0m\u001b[1;33m\u001b[0m\u001b[0m\n\u001b[0;32m   2544\u001b[0m             )\n",
      "\u001b[1;32m~\\AppData\\Local\\Packages\\PythonSoftwareFoundation.Python.3.9_qbz5n2kfra8p0\\LocalCache\\local-packages\\Python39\\site-packages\\pandas\\core\\internals\\blocks.py\u001b[0m in \u001b[0;36msplit_and_operate\u001b[1;34m(self, mask, f, inplace, ignore_failures)\u001b[0m\n\u001b[0;32m    531\u001b[0m                 \u001b[1;31m#  reduction that is dropping nuisance columns GH#37827\u001b[0m\u001b[1;33m\u001b[0m\u001b[1;33m\u001b[0m\u001b[0m\n\u001b[0;32m    532\u001b[0m                 \u001b[1;32mtry\u001b[0m\u001b[1;33m:\u001b[0m\u001b[1;33m\u001b[0m\u001b[1;33m\u001b[0m\u001b[0m\n\u001b[1;32m--> 533\u001b[1;33m                     \u001b[0mnv\u001b[0m \u001b[1;33m=\u001b[0m \u001b[0mf\u001b[0m\u001b[1;33m(\u001b[0m\u001b[0mm\u001b[0m\u001b[1;33m,\u001b[0m \u001b[0mv\u001b[0m\u001b[1;33m,\u001b[0m \u001b[0mi\u001b[0m\u001b[1;33m)\u001b[0m\u001b[1;33m\u001b[0m\u001b[1;33m\u001b[0m\u001b[0m\n\u001b[0m\u001b[0;32m    534\u001b[0m                 \u001b[1;32mexcept\u001b[0m \u001b[0mTypeError\u001b[0m\u001b[1;33m:\u001b[0m\u001b[1;33m\u001b[0m\u001b[1;33m\u001b[0m\u001b[0m\n\u001b[0;32m    535\u001b[0m                     \u001b[1;32mif\u001b[0m \u001b[0mignore_failures\u001b[0m\u001b[1;33m:\u001b[0m\u001b[1;33m\u001b[0m\u001b[1;33m\u001b[0m\u001b[0m\n",
      "\u001b[1;32m~\\AppData\\Local\\Packages\\PythonSoftwareFoundation.Python.3.9_qbz5n2kfra8p0\\LocalCache\\local-packages\\Python39\\site-packages\\pandas\\core\\internals\\blocks.py\u001b[0m in \u001b[0;36mmask_func\u001b[1;34m(mask, values, inplace)\u001b[0m\n\u001b[0;32m   2538\u001b[0m                 \u001b[1;32mif\u001b[0m \u001b[0mvalues\u001b[0m\u001b[1;33m.\u001b[0m\u001b[0mndim\u001b[0m \u001b[1;33m==\u001b[0m \u001b[1;36m1\u001b[0m\u001b[1;33m:\u001b[0m\u001b[1;33m\u001b[0m\u001b[1;33m\u001b[0m\u001b[0m\n\u001b[0;32m   2539\u001b[0m                     \u001b[0mvalues\u001b[0m \u001b[1;33m=\u001b[0m \u001b[0mvalues\u001b[0m\u001b[1;33m.\u001b[0m\u001b[0mreshape\u001b[0m\u001b[1;33m(\u001b[0m\u001b[1;36m1\u001b[0m\u001b[1;33m,\u001b[0m \u001b[1;33m-\u001b[0m\u001b[1;36m1\u001b[0m\u001b[1;33m)\u001b[0m\u001b[1;33m\u001b[0m\u001b[1;33m\u001b[0m\u001b[0m\n\u001b[1;32m-> 2540\u001b[1;33m                 \u001b[1;32mreturn\u001b[0m \u001b[0mfunc\u001b[0m\u001b[1;33m(\u001b[0m\u001b[0mvalues\u001b[0m\u001b[1;33m)\u001b[0m\u001b[1;33m\u001b[0m\u001b[1;33m\u001b[0m\u001b[0m\n\u001b[0m\u001b[0;32m   2541\u001b[0m \u001b[1;33m\u001b[0m\u001b[0m\n\u001b[0;32m   2542\u001b[0m             return self.split_and_operate(\n",
      "\u001b[1;32m~\\AppData\\Local\\Packages\\PythonSoftwareFoundation.Python.3.9_qbz5n2kfra8p0\\LocalCache\\local-packages\\Python39\\site-packages\\pandas\\core\\frame.py\u001b[0m in \u001b[0;36mblk_func\u001b[1;34m(values)\u001b[0m\n\u001b[0;32m   8821\u001b[0m                 \u001b[1;32mreturn\u001b[0m \u001b[0mvalues\u001b[0m\u001b[1;33m.\u001b[0m\u001b[0m_reduce\u001b[0m\u001b[1;33m(\u001b[0m\u001b[0mname\u001b[0m\u001b[1;33m,\u001b[0m \u001b[0mskipna\u001b[0m\u001b[1;33m=\u001b[0m\u001b[0mskipna\u001b[0m\u001b[1;33m,\u001b[0m \u001b[1;33m**\u001b[0m\u001b[0mkwds\u001b[0m\u001b[1;33m)\u001b[0m\u001b[1;33m\u001b[0m\u001b[1;33m\u001b[0m\u001b[0m\n\u001b[0;32m   8822\u001b[0m             \u001b[1;32melse\u001b[0m\u001b[1;33m:\u001b[0m\u001b[1;33m\u001b[0m\u001b[1;33m\u001b[0m\u001b[0m\n\u001b[1;32m-> 8823\u001b[1;33m                 \u001b[1;32mreturn\u001b[0m \u001b[0mop\u001b[0m\u001b[1;33m(\u001b[0m\u001b[0mvalues\u001b[0m\u001b[1;33m,\u001b[0m \u001b[0maxis\u001b[0m\u001b[1;33m=\u001b[0m\u001b[1;36m1\u001b[0m\u001b[1;33m,\u001b[0m \u001b[0mskipna\u001b[0m\u001b[1;33m=\u001b[0m\u001b[0mskipna\u001b[0m\u001b[1;33m,\u001b[0m \u001b[1;33m**\u001b[0m\u001b[0mkwds\u001b[0m\u001b[1;33m)\u001b[0m\u001b[1;33m\u001b[0m\u001b[1;33m\u001b[0m\u001b[0m\n\u001b[0m\u001b[0;32m   8824\u001b[0m \u001b[1;33m\u001b[0m\u001b[0m\n\u001b[0;32m   8825\u001b[0m         \u001b[1;32mdef\u001b[0m \u001b[0m_get_data\u001b[0m\u001b[1;33m(\u001b[0m\u001b[1;33m)\u001b[0m \u001b[1;33m->\u001b[0m \u001b[0mDataFrame\u001b[0m\u001b[1;33m:\u001b[0m\u001b[1;33m\u001b[0m\u001b[1;33m\u001b[0m\u001b[0m\n",
      "\u001b[1;32m~\\AppData\\Local\\Packages\\PythonSoftwareFoundation.Python.3.9_qbz5n2kfra8p0\\LocalCache\\local-packages\\Python39\\site-packages\\pandas\\core\\nanops.py\u001b[0m in \u001b[0;36mf\u001b[1;34m(values, axis, skipna, **kwds)\u001b[0m\n\u001b[0;32m    133\u001b[0m                     \u001b[0mresult\u001b[0m \u001b[1;33m=\u001b[0m \u001b[0malt\u001b[0m\u001b[1;33m(\u001b[0m\u001b[0mvalues\u001b[0m\u001b[1;33m,\u001b[0m \u001b[0maxis\u001b[0m\u001b[1;33m=\u001b[0m\u001b[0maxis\u001b[0m\u001b[1;33m,\u001b[0m \u001b[0mskipna\u001b[0m\u001b[1;33m=\u001b[0m\u001b[0mskipna\u001b[0m\u001b[1;33m,\u001b[0m \u001b[1;33m**\u001b[0m\u001b[0mkwds\u001b[0m\u001b[1;33m)\u001b[0m\u001b[1;33m\u001b[0m\u001b[1;33m\u001b[0m\u001b[0m\n\u001b[0;32m    134\u001b[0m             \u001b[1;32melse\u001b[0m\u001b[1;33m:\u001b[0m\u001b[1;33m\u001b[0m\u001b[1;33m\u001b[0m\u001b[0m\n\u001b[1;32m--> 135\u001b[1;33m                 \u001b[0mresult\u001b[0m \u001b[1;33m=\u001b[0m \u001b[0malt\u001b[0m\u001b[1;33m(\u001b[0m\u001b[0mvalues\u001b[0m\u001b[1;33m,\u001b[0m \u001b[0maxis\u001b[0m\u001b[1;33m=\u001b[0m\u001b[0maxis\u001b[0m\u001b[1;33m,\u001b[0m \u001b[0mskipna\u001b[0m\u001b[1;33m=\u001b[0m\u001b[0mskipna\u001b[0m\u001b[1;33m,\u001b[0m \u001b[1;33m**\u001b[0m\u001b[0mkwds\u001b[0m\u001b[1;33m)\u001b[0m\u001b[1;33m\u001b[0m\u001b[1;33m\u001b[0m\u001b[0m\n\u001b[0m\u001b[0;32m    136\u001b[0m \u001b[1;33m\u001b[0m\u001b[0m\n\u001b[0;32m    137\u001b[0m             \u001b[1;32mreturn\u001b[0m \u001b[0mresult\u001b[0m\u001b[1;33m\u001b[0m\u001b[1;33m\u001b[0m\u001b[0m\n",
      "\u001b[1;32m~\\AppData\\Local\\Packages\\PythonSoftwareFoundation.Python.3.9_qbz5n2kfra8p0\\LocalCache\\local-packages\\Python39\\site-packages\\pandas\\core\\nanops.py\u001b[0m in \u001b[0;36mnew_func\u001b[1;34m(values, axis, skipna, mask, **kwargs)\u001b[0m\n\u001b[0;32m    392\u001b[0m             \u001b[0mmask\u001b[0m \u001b[1;33m=\u001b[0m \u001b[0misna\u001b[0m\u001b[1;33m(\u001b[0m\u001b[0mvalues\u001b[0m\u001b[1;33m)\u001b[0m\u001b[1;33m\u001b[0m\u001b[1;33m\u001b[0m\u001b[0m\n\u001b[0;32m    393\u001b[0m \u001b[1;33m\u001b[0m\u001b[0m\n\u001b[1;32m--> 394\u001b[1;33m         \u001b[0mresult\u001b[0m \u001b[1;33m=\u001b[0m \u001b[0mfunc\u001b[0m\u001b[1;33m(\u001b[0m\u001b[0mvalues\u001b[0m\u001b[1;33m,\u001b[0m \u001b[0maxis\u001b[0m\u001b[1;33m=\u001b[0m\u001b[0maxis\u001b[0m\u001b[1;33m,\u001b[0m \u001b[0mskipna\u001b[0m\u001b[1;33m=\u001b[0m\u001b[0mskipna\u001b[0m\u001b[1;33m,\u001b[0m \u001b[0mmask\u001b[0m\u001b[1;33m=\u001b[0m\u001b[0mmask\u001b[0m\u001b[1;33m,\u001b[0m \u001b[1;33m**\u001b[0m\u001b[0mkwargs\u001b[0m\u001b[1;33m)\u001b[0m\u001b[1;33m\u001b[0m\u001b[1;33m\u001b[0m\u001b[0m\n\u001b[0m\u001b[0;32m    395\u001b[0m \u001b[1;33m\u001b[0m\u001b[0m\n\u001b[0;32m    396\u001b[0m         \u001b[1;32mif\u001b[0m \u001b[0mdatetimelike\u001b[0m\u001b[1;33m:\u001b[0m\u001b[1;33m\u001b[0m\u001b[1;33m\u001b[0m\u001b[0m\n",
      "\u001b[1;32m~\\AppData\\Local\\Packages\\PythonSoftwareFoundation.Python.3.9_qbz5n2kfra8p0\\LocalCache\\local-packages\\Python39\\site-packages\\pandas\\core\\nanops.py\u001b[0m in \u001b[0;36mreduction\u001b[1;34m(values, axis, skipna, mask)\u001b[0m\n\u001b[0;32m    964\u001b[0m     ) -> Dtype:\n\u001b[0;32m    965\u001b[0m \u001b[1;33m\u001b[0m\u001b[0m\n\u001b[1;32m--> 966\u001b[1;33m         values, mask, dtype, dtype_max, fill_value = _get_values(\n\u001b[0m\u001b[0;32m    967\u001b[0m             \u001b[0mvalues\u001b[0m\u001b[1;33m,\u001b[0m \u001b[0mskipna\u001b[0m\u001b[1;33m,\u001b[0m \u001b[0mfill_value_typ\u001b[0m\u001b[1;33m=\u001b[0m\u001b[0mfill_value_typ\u001b[0m\u001b[1;33m,\u001b[0m \u001b[0mmask\u001b[0m\u001b[1;33m=\u001b[0m\u001b[0mmask\u001b[0m\u001b[1;33m\u001b[0m\u001b[1;33m\u001b[0m\u001b[0m\n\u001b[0;32m    968\u001b[0m         )\n",
      "\u001b[1;32m~\\AppData\\Local\\Packages\\PythonSoftwareFoundation.Python.3.9_qbz5n2kfra8p0\\LocalCache\\local-packages\\Python39\\site-packages\\pandas\\core\\nanops.py\u001b[0m in \u001b[0;36m_get_values\u001b[1;34m(values, skipna, fill_value, fill_value_typ, mask)\u001b[0m\n\u001b[0;32m    290\u001b[0m     \u001b[0mvalues\u001b[0m \u001b[1;33m=\u001b[0m \u001b[0mextract_array\u001b[0m\u001b[1;33m(\u001b[0m\u001b[0mvalues\u001b[0m\u001b[1;33m,\u001b[0m \u001b[0mextract_numpy\u001b[0m\u001b[1;33m=\u001b[0m\u001b[1;32mTrue\u001b[0m\u001b[1;33m)\u001b[0m\u001b[1;33m\u001b[0m\u001b[1;33m\u001b[0m\u001b[0m\n\u001b[0;32m    291\u001b[0m \u001b[1;33m\u001b[0m\u001b[0m\n\u001b[1;32m--> 292\u001b[1;33m     \u001b[0mmask\u001b[0m \u001b[1;33m=\u001b[0m \u001b[0m_maybe_get_mask\u001b[0m\u001b[1;33m(\u001b[0m\u001b[0mvalues\u001b[0m\u001b[1;33m,\u001b[0m \u001b[0mskipna\u001b[0m\u001b[1;33m,\u001b[0m \u001b[0mmask\u001b[0m\u001b[1;33m)\u001b[0m\u001b[1;33m\u001b[0m\u001b[1;33m\u001b[0m\u001b[0m\n\u001b[0m\u001b[0;32m    293\u001b[0m \u001b[1;33m\u001b[0m\u001b[0m\n\u001b[0;32m    294\u001b[0m     \u001b[0mdtype\u001b[0m \u001b[1;33m=\u001b[0m \u001b[0mvalues\u001b[0m\u001b[1;33m.\u001b[0m\u001b[0mdtype\u001b[0m\u001b[1;33m\u001b[0m\u001b[1;33m\u001b[0m\u001b[0m\n",
      "\u001b[1;32m~\\AppData\\Local\\Packages\\PythonSoftwareFoundation.Python.3.9_qbz5n2kfra8p0\\LocalCache\\local-packages\\Python39\\site-packages\\pandas\\core\\nanops.py\u001b[0m in \u001b[0;36m_maybe_get_mask\u001b[1;34m(values, skipna, mask)\u001b[0m\n\u001b[0;32m    236\u001b[0m \u001b[1;33m\u001b[0m\u001b[0m\n\u001b[0;32m    237\u001b[0m         \u001b[1;32mif\u001b[0m \u001b[0mskipna\u001b[0m \u001b[1;32mor\u001b[0m \u001b[0mneeds_i8_conversion\u001b[0m\u001b[1;33m(\u001b[0m\u001b[0mvalues\u001b[0m\u001b[1;33m.\u001b[0m\u001b[0mdtype\u001b[0m\u001b[1;33m)\u001b[0m\u001b[1;33m:\u001b[0m\u001b[1;33m\u001b[0m\u001b[1;33m\u001b[0m\u001b[0m\n\u001b[1;32m--> 238\u001b[1;33m             \u001b[0mmask\u001b[0m \u001b[1;33m=\u001b[0m \u001b[0misna\u001b[0m\u001b[1;33m(\u001b[0m\u001b[0mvalues\u001b[0m\u001b[1;33m)\u001b[0m\u001b[1;33m\u001b[0m\u001b[1;33m\u001b[0m\u001b[0m\n\u001b[0m\u001b[0;32m    239\u001b[0m \u001b[1;33m\u001b[0m\u001b[0m\n\u001b[0;32m    240\u001b[0m     \u001b[1;32mreturn\u001b[0m \u001b[0mmask\u001b[0m\u001b[1;33m\u001b[0m\u001b[1;33m\u001b[0m\u001b[0m\n",
      "\u001b[1;32m~\\AppData\\Local\\Packages\\PythonSoftwareFoundation.Python.3.9_qbz5n2kfra8p0\\LocalCache\\local-packages\\Python39\\site-packages\\pandas\\core\\dtypes\\missing.py\u001b[0m in \u001b[0;36misna\u001b[1;34m(obj)\u001b[0m\n\u001b[0;32m    125\u001b[0m     \u001b[0mName\u001b[0m\u001b[1;33m:\u001b[0m \u001b[1;36m1\u001b[0m\u001b[1;33m,\u001b[0m \u001b[0mdtype\u001b[0m\u001b[1;33m:\u001b[0m \u001b[0mbool\u001b[0m\u001b[1;33m\u001b[0m\u001b[1;33m\u001b[0m\u001b[0m\n\u001b[0;32m    126\u001b[0m     \"\"\"\n\u001b[1;32m--> 127\u001b[1;33m     \u001b[1;32mreturn\u001b[0m \u001b[0m_isna\u001b[0m\u001b[1;33m(\u001b[0m\u001b[0mobj\u001b[0m\u001b[1;33m)\u001b[0m\u001b[1;33m\u001b[0m\u001b[1;33m\u001b[0m\u001b[0m\n\u001b[0m\u001b[0;32m    128\u001b[0m \u001b[1;33m\u001b[0m\u001b[0m\n\u001b[0;32m    129\u001b[0m \u001b[1;33m\u001b[0m\u001b[0m\n",
      "\u001b[1;32m~\\AppData\\Local\\Packages\\PythonSoftwareFoundation.Python.3.9_qbz5n2kfra8p0\\LocalCache\\local-packages\\Python39\\site-packages\\pandas\\core\\dtypes\\missing.py\u001b[0m in \u001b[0;36m_isna\u001b[1;34m(obj, inf_as_na)\u001b[0m\n\u001b[0;32m    158\u001b[0m         \u001b[1;32mreturn\u001b[0m \u001b[1;32mFalse\u001b[0m\u001b[1;33m\u001b[0m\u001b[1;33m\u001b[0m\u001b[0m\n\u001b[0;32m    159\u001b[0m     \u001b[1;32melif\u001b[0m \u001b[0misinstance\u001b[0m\u001b[1;33m(\u001b[0m\u001b[0mobj\u001b[0m\u001b[1;33m,\u001b[0m \u001b[1;33m(\u001b[0m\u001b[0mABCSeries\u001b[0m\u001b[1;33m,\u001b[0m \u001b[0mnp\u001b[0m\u001b[1;33m.\u001b[0m\u001b[0mndarray\u001b[0m\u001b[1;33m,\u001b[0m \u001b[0mABCIndexClass\u001b[0m\u001b[1;33m,\u001b[0m \u001b[0mABCExtensionArray\u001b[0m\u001b[1;33m)\u001b[0m\u001b[1;33m)\u001b[0m\u001b[1;33m:\u001b[0m\u001b[1;33m\u001b[0m\u001b[1;33m\u001b[0m\u001b[0m\n\u001b[1;32m--> 160\u001b[1;33m         \u001b[1;32mreturn\u001b[0m \u001b[0m_isna_ndarraylike\u001b[0m\u001b[1;33m(\u001b[0m\u001b[0mobj\u001b[0m\u001b[1;33m,\u001b[0m \u001b[0minf_as_na\u001b[0m\u001b[1;33m=\u001b[0m\u001b[0minf_as_na\u001b[0m\u001b[1;33m)\u001b[0m\u001b[1;33m\u001b[0m\u001b[1;33m\u001b[0m\u001b[0m\n\u001b[0m\u001b[0;32m    161\u001b[0m     \u001b[1;32melif\u001b[0m \u001b[0misinstance\u001b[0m\u001b[1;33m(\u001b[0m\u001b[0mobj\u001b[0m\u001b[1;33m,\u001b[0m \u001b[0mABCDataFrame\u001b[0m\u001b[1;33m)\u001b[0m\u001b[1;33m:\u001b[0m\u001b[1;33m\u001b[0m\u001b[1;33m\u001b[0m\u001b[0m\n\u001b[0;32m    162\u001b[0m         \u001b[1;32mreturn\u001b[0m \u001b[0mobj\u001b[0m\u001b[1;33m.\u001b[0m\u001b[0misna\u001b[0m\u001b[1;33m(\u001b[0m\u001b[1;33m)\u001b[0m\u001b[1;33m\u001b[0m\u001b[1;33m\u001b[0m\u001b[0m\n",
      "\u001b[1;32m~\\AppData\\Local\\Packages\\PythonSoftwareFoundation.Python.3.9_qbz5n2kfra8p0\\LocalCache\\local-packages\\Python39\\site-packages\\pandas\\core\\dtypes\\missing.py\u001b[0m in \u001b[0;36m_isna_ndarraylike\u001b[1;34m(obj, inf_as_na)\u001b[0m\n\u001b[0;32m    225\u001b[0m             \u001b[0mresult\u001b[0m \u001b[1;33m=\u001b[0m \u001b[0mvalues\u001b[0m\u001b[1;33m.\u001b[0m\u001b[0misna\u001b[0m\u001b[1;33m(\u001b[0m\u001b[1;33m)\u001b[0m\u001b[1;33m\u001b[0m\u001b[1;33m\u001b[0m\u001b[0m\n\u001b[0;32m    226\u001b[0m     \u001b[1;32melif\u001b[0m \u001b[0mis_string_dtype\u001b[0m\u001b[1;33m(\u001b[0m\u001b[0mdtype\u001b[0m\u001b[1;33m)\u001b[0m\u001b[1;33m:\u001b[0m\u001b[1;33m\u001b[0m\u001b[1;33m\u001b[0m\u001b[0m\n\u001b[1;32m--> 227\u001b[1;33m         \u001b[0mresult\u001b[0m \u001b[1;33m=\u001b[0m \u001b[0m_isna_string_dtype\u001b[0m\u001b[1;33m(\u001b[0m\u001b[0mvalues\u001b[0m\u001b[1;33m,\u001b[0m \u001b[0mdtype\u001b[0m\u001b[1;33m,\u001b[0m \u001b[0minf_as_na\u001b[0m\u001b[1;33m=\u001b[0m\u001b[0minf_as_na\u001b[0m\u001b[1;33m)\u001b[0m\u001b[1;33m\u001b[0m\u001b[1;33m\u001b[0m\u001b[0m\n\u001b[0m\u001b[0;32m    228\u001b[0m     \u001b[1;32melif\u001b[0m \u001b[0mneeds_i8_conversion\u001b[0m\u001b[1;33m(\u001b[0m\u001b[0mdtype\u001b[0m\u001b[1;33m)\u001b[0m\u001b[1;33m:\u001b[0m\u001b[1;33m\u001b[0m\u001b[1;33m\u001b[0m\u001b[0m\n\u001b[0;32m    229\u001b[0m         \u001b[1;31m# this is the NaT pattern\u001b[0m\u001b[1;33m\u001b[0m\u001b[1;33m\u001b[0m\u001b[0m\n",
      "\u001b[1;32m~\\AppData\\Local\\Packages\\PythonSoftwareFoundation.Python.3.9_qbz5n2kfra8p0\\LocalCache\\local-packages\\Python39\\site-packages\\pandas\\core\\dtypes\\missing.py\u001b[0m in \u001b[0;36m_isna_string_dtype\u001b[1;34m(values, dtype, inf_as_na)\u001b[0m\n\u001b[0;32m    257\u001b[0m             \u001b[0mvec\u001b[0m \u001b[1;33m=\u001b[0m \u001b[0mlibmissing\u001b[0m\u001b[1;33m.\u001b[0m\u001b[0misnaobj\u001b[0m\u001b[1;33m(\u001b[0m\u001b[0mvalues\u001b[0m\u001b[1;33m.\u001b[0m\u001b[0mravel\u001b[0m\u001b[1;33m(\u001b[0m\u001b[1;33m)\u001b[0m\u001b[1;33m)\u001b[0m\u001b[1;33m\u001b[0m\u001b[1;33m\u001b[0m\u001b[0m\n\u001b[0;32m    258\u001b[0m \u001b[1;33m\u001b[0m\u001b[0m\n\u001b[1;32m--> 259\u001b[1;33m         \u001b[0mresult\u001b[0m\u001b[1;33m[\u001b[0m\u001b[1;33m...\u001b[0m\u001b[1;33m]\u001b[0m \u001b[1;33m=\u001b[0m \u001b[0mvec\u001b[0m\u001b[1;33m.\u001b[0m\u001b[0mreshape\u001b[0m\u001b[1;33m(\u001b[0m\u001b[0mshape\u001b[0m\u001b[1;33m)\u001b[0m\u001b[1;33m\u001b[0m\u001b[1;33m\u001b[0m\u001b[0m\n\u001b[0m\u001b[0;32m    260\u001b[0m \u001b[1;33m\u001b[0m\u001b[0m\n\u001b[0;32m    261\u001b[0m     \u001b[1;32mreturn\u001b[0m \u001b[0mresult\u001b[0m\u001b[1;33m\u001b[0m\u001b[1;33m\u001b[0m\u001b[0m\n",
      "\u001b[1;31mKeyboardInterrupt\u001b[0m: "
     ]
    }
   ],
   "source": [
    "# Each participant generates random spike in points \n",
    "# which in production environment will be shared to coordinator for creating overall spike array\n",
    "generated_spikes_D1 = generate_spikes_each_participant(D1)\n",
    "generated_spikes_D2 = generate_spikes_each_participant(D2)\n",
    "\n",
    "generated_spikes = np.concatenate((generated_spikes_D1, generated_spikes_D2))\n",
    "generated_spikes.shape"
   ]
  },
  {
   "cell_type": "code",
   "execution_count": null,
   "id": "a87fb724",
   "metadata": {},
   "outputs": [],
   "source": [
    "plot3dwithspike(width=9, height=6, title= \"Clustering with actual labels\", datapoints = clustered_dataset, spikes=generated_spikes, myLabel=true_label)\n",
    "# # rows are s1,s2..sn while columns are datapoints\n",
    "euc_dist_D1_spikes = euclidean_distances(D1,generated_spikes)\n",
    "# print(\"Spike local distance matrix of 1st participant: \\n\", euc_dist_D1_spikes)\n",
    "\n",
    "# # rows are s1,s2..sn while columns are datapoints\n",
    "euc_dist_D2_spikes = euclidean_distances(D2,generated_spikes)\n",
    "# print(\"Spike local distance matrix of 2nd participant: \\n\", euc_dist_D2_spikes)\n",
    "  \n",
    "slope_intercept_D1 = regression_per_client(data= D1,\n",
    "                                           euc_dist_data_spike= euc_dist_D1_spikes,\n",
    "                                           regressor=\"Huber\")\n",
    "slope_intercept_D2 = regression_per_client(data= D2,\n",
    "                                           euc_dist_data_spike= euc_dist_D2_spikes,\n",
    "                                           regressor=\"Linear\")\n",
    "\n"
   ]
  },
  {
   "cell_type": "markdown",
   "id": "3b6e1de3",
   "metadata": {},
   "source": [
    "### Coordinator Based Computation"
   ]
  },
  {
   "cell_type": "code",
   "execution_count": null,
   "id": "ef3a9c6d",
   "metadata": {},
   "outputs": [],
   "source": [
    "def calc_fed_euc_dist(sldm_array):\n",
    "    combined_eucl = np.concatenate(sldm_array)\n",
    "    # rows are s1,s2..sn while columns are datapoints\n",
    "    print(combined_eucl)\n",
    "    # computing the distance of distance (e.g.: meta-distance)\n",
    "    # number of all samples * number of all samples\n",
    "    return euclidean_distances(combined_eucl)\n",
    "\n",
    "def construct_global_Mx_Cx_matrix(MxCx,dataset_len_array):\n",
    "    Mi,Ci = np.split(np.array(MxCx),2,axis=1)\n",
    "    arrayMi=Mi.flatten()\n",
    "    arrayCi=Ci.flatten()\n",
    "    print(\"arrayMi: \",arrayMi)\n",
    "    print(\"arrayCi: \",arrayCi)\n",
    "    \n",
    "    Mi_avg=np.average(arrayMi)\n",
    "    Ci_avg=np.average(arrayCi)\n",
    "    print(\"Average of slopes: \", Mi_avg)\n",
    "    print(\"Average of constants: \", Ci_avg)\n",
    "    print(\"array of number of vectors in the datasets, i.e., shape array: \\n\",dataset_len_array)\n",
    "    \n",
    "    #Placing the respective Mi of each datapoints and getting Mx matrix\n",
    "    global_Mx = block_diag(*[np.full((i, i), c) for c, i in zip(arrayMi, dataset_len_array)])\n",
    "    #Placing the respective Ci of each datapoints and getting Cx matrix\n",
    "    global_Cx = block_diag(*[np.full((i, i), c) for c, i in zip(arrayCi, dataset_len_array)])\n",
    "    print(\"Average of slope or coefficients i.e. Mi's: \", global_Mx)\n",
    "    print(\"Average of constants or intercepts i.e. Ci's: \", global_Cx)\n",
    "    # The zeroes in global slopes and constants matrix are replaced by Mi_avg and Ci_avg respectively \n",
    "    # They are used to calculate the predicted distance for cross-sectional data\n",
    "    # For example: distance(a1,b5) where a1 and b5 belongs to different datasets\n",
    "    global_Mx[global_Mx == 0] = Mi_avg\n",
    "    global_Cx[global_Cx == 0] = Ci_avg\n",
    "    print(\"Global coefficient or slope matrix: \\n\", global_Mx)\n",
    "    print(\"Global constant or intercept matrix: \\n\", global_Cx)\n",
    "    return global_Mx, global_Cx\n",
    "\n",
    "def calc_pred_dist_matrix(global_Mx, global_fed_euc_dist, global_Cx):\n",
    "    PGDM=np.add(np.multiply(global_Mx, global_fed_euc_dist),global_Cx)\n",
    "    #As distance between same points is 0\n",
    "    np.fill_diagonal(PGDM,0)\n",
    "    # print(\"Predicted Global Distance Matrix: \\n\",PGDM)\n",
    "    return PGDM"
   ]
  },
  {
   "cell_type": "code",
   "execution_count": null,
   "id": "dc9b3afa",
   "metadata": {},
   "outputs": [],
   "source": [
    "global_true_euc_dist = euclidean_distances(clustered_dataset)\n",
    "\n",
    "# https://stackoverflow.com/questions/59765712/optics-parallelism\n",
    "label = OPTICS(metric='precomputed', n_jobs=-1).fit_predict(global_true_euc_dist)\n",
    "#Getting unique labels\n",
    "u_labels_2 = np.unique(label)\n",
    "pred_label_gtdm =  np.array(label).tolist()\n",
    "#MAKE A METHOD FOR PCA\n",
    "pca_2d = PCA(n_components=2)\n",
    "pca_3d = PCA(n_components=3)\n",
    "clustered_dataset_2d = pca_2d.fit_transform(clustered_dataset)\n",
    "generated_spikes_2d = pca_2d.fit_transform(generated_spikes)\n",
    "clustered_dataset_3d = pca_3d.fit_transform(clustered_dataset)\n",
    "generated_spikes_3d = pca_3d.fit_transform(generated_spikes)\n",
    "\n",
    "plt.figure(figsize=(15,15))\n",
    "plt.subplots_adjust(bottom=.05, top=.9, left=.05, right=.95)\n",
    "plt.subplot(325)\n",
    "plt.title(\"Clustering with true distance matrix\", fontsize='medium')\n",
    "for i in u_labels_2:\n",
    "    plt.scatter(clustered_dataset_2d[label == i , 0] , clustered_dataset_2d[label == i , 1] , label = i)\n",
    "plt.scatter(generated_spikes_2d[:,0] , generated_spikes_2d[:,1] , s = 80, color = 'k')\n",
    "plt.legend()\n",
    "plt.show()\n",
    "\n",
    "plot3dwithspike(width=9, height=6, title= \"Clustering with true distance matrix\", datapoints = clustered_dataset_3d, spikes=generated_spikes_3d, myLabel=pred_label_gtdm)"
   ]
  },
  {
   "cell_type": "code",
   "execution_count": null,
   "id": "0af8fe09",
   "metadata": {},
   "outputs": [],
   "source": [
    "print(\"Adjusted Similarity score of the clustering with true distance in (%) :\", adjusted_rand_score(true_label, pred_label_gtdm)*100)\n",
    "print(\"Adjusted mutual info score of the clustering with true distance in (%) :\", adjusted_mutual_info_score(true_label, pred_label_gtdm)*100)\n",
    "print(\"F1 score after clustering with true distance:\",f1_score(true_label, pred_label_gtdm, average='micro'))\n",
    "# print(\"Silhouette Score: \",silhouette_score(global_true_euc_dist, pred_label_gtdm, metric='precomputed')) \n",
    "print(\"Calinski-Harabasz Score: \", calinski_harabasz_score(global_true_euc_dist, pred_label_gtdm))\n",
    "print(\"Davies-Bouldin Score: \", davies_bouldin_score(global_true_euc_dist, pred_label_gtdm))"
   ]
  },
  {
   "cell_type": "code",
   "execution_count": null,
   "id": "f39dc856",
   "metadata": {},
   "outputs": [],
   "source": [
    "global_fed_euc_dist = calc_fed_euc_dist([euc_dist_D1_spikes, euc_dist_D2_spikes])\n",
    "\n",
    "label = OPTICS(metric='precomputed', n_jobs=-1).fit_predict(global_fed_euc_dist)\n",
    "#Getting unique labels\n",
    "u_labels_2 = np.unique(label)\n",
    "pred_label_gfdm =  np.array(label).tolist()\n",
    "\n",
    "plt.figure(figsize=(15,15))\n",
    "plt.subplots_adjust(bottom=.05, top=.9, left=.05, right=.95)\n",
    "plt.subplot(325)\n",
    "plt.title(\"Clustering with globally federated distance matrix\", fontsize='medium')\n",
    "for i in u_labels_2:\n",
    "    plt.scatter(clustered_dataset_2d[label == i , 0] , clustered_dataset_2d[label == i , 1] , label = i)\n",
    "plt.scatter(generated_spikes_2d[:,0] , generated_spikes_2d[:,1] , s = 80, color = 'k')\n",
    "plt.legend()\n",
    "plt.show()\n",
    "\n",
    "plot3dwithspike(width=9, height=6, title= \"Clustering with globally federated distance matrix\", datapoints = clustered_dataset_3d, spikes=generated_spikes_3d, myLabel=pred_label_gfdm)"
   ]
  },
  {
   "cell_type": "code",
   "execution_count": null,
   "id": "20e5f2de",
   "metadata": {},
   "outputs": [],
   "source": [
    "print(\"Adjusted Similarity score of the clustering with federated distance in (%) :\", adjusted_rand_score(pred_label_gtdm, pred_label_gfdm)*100)\n",
    "print(\"Adjusted mutual info score of the clustering with federated distance in (%) :\", adjusted_mutual_info_score(pred_label_gtdm, pred_label_gfdm)*100)\n",
    "print(\"F1 score after clustering with federated distance:\",f1_score(true_label, pred_label_gfdm, average='micro'))\n",
    "# print(\"Silhouette Score:  \",silhouette_score(global_fed_euc_dist, pred_label_gfdm, metric='precomputed')) \n",
    "print(\"Calinski-Harabasz Score: \", calinski_harabasz_score(global_fed_euc_dist, pred_label_gfdm))\n",
    "print(\"Davies-Bouldin Score: \", davies_bouldin_score(global_fed_euc_dist, pred_label_gfdm))\n",
    "# Reference: https://stackoverflow.com/questions/58069814/python-accuracy-check-giving-0-result-for-flipped-classification"
   ]
  },
  {
   "cell_type": "code",
   "execution_count": null,
   "id": "fcd5b085",
   "metadata": {},
   "outputs": [],
   "source": [
    "MxCx = []\n",
    "MxCx.append(slope_intercept_D1)\n",
    "MxCx.append(slope_intercept_D2)\n",
    "\n",
    "global_Mx, global_Cx = construct_global_Mx_Cx_matrix(MxCx,[euc_dist_D1_spikes.shape[0], euc_dist_D2_spikes.shape[0]])\n",
    "global_pred_euc_dist = calc_pred_dist_matrix(global_Mx, global_fed_euc_dist, global_Cx)\n"
   ]
  },
  {
   "cell_type": "code",
   "execution_count": null,
   "id": "2e4776d8",
   "metadata": {},
   "outputs": [],
   "source": [
    "label = OPTICS(metric='precomputed', n_jobs=-1).fit_predict(global_pred_euc_dist)\n",
    "#Getting unique labels\n",
    "u_labels_2 = np.unique(label)\n",
    "pred_label_2 =  np.array(label).tolist()\n",
    "\n",
    "plt.figure(figsize=(15,15))\n",
    "plt.subplots_adjust(bottom=.05, top=.9, left=.05, right=.95)\n",
    "plt.subplot(325)\n",
    "plt.title(\"Clustering with predicted distance matrix\", fontsize='medium')\n",
    "for i in u_labels_2:\n",
    "    plt.scatter(clustered_dataset_2d[label == i , 0] , clustered_dataset_2d[label == i , 1] , label = i)\n",
    "plt.scatter(generated_spikes_2d[:,0] , generated_spikes_2d[:,1] , s = 80, color = 'k')\n",
    "plt.legend()\n",
    "plt.show()\n",
    "\n",
    "plot3dwithspike(width=9, height=6, title= \"Clustering with globally predicted distance matrix\", datapoints = clustered_dataset_3d, spikes=generated_spikes_3d, myLabel=pred_label_2)"
   ]
  },
  {
   "cell_type": "code",
   "execution_count": null,
   "id": "54efc3b2",
   "metadata": {},
   "outputs": [],
   "source": [
    "print(\"Adjusted Similarity score of the clustering with predicted distance in (%) :\", adjusted_rand_score(pred_label_gtdm, pred_label_2)*100)\n",
    "print(\"Adjusted mutual info score of the clustering with predicted distance in (%) :\", adjusted_mutual_info_score(pred_label_gtdm, pred_label_2)*100)\n",
    "print(\"F1 score after clustering with predicted distance:\",f1_score(true_label, pred_label_2, average='micro'))\n",
    "# print(\"Calinski-Harabasz Score: \", calinski_harabasz_score(global_pred_euc_dist, pred_label_2))\n",
    "# print(\"Davies-Bouldin Score: \", davies_bouldin_score(global_pred_euc_dist, pred_label_2))\n",
    "# print(\"Silhouette Score: \",silhouette_score(global_pred_euc_dist, pred_label_2, metric='precomputed')) "
   ]
  },
  {
   "cell_type": "code",
   "execution_count": null,
   "id": "d20c2854",
   "metadata": {},
   "outputs": [],
   "source": [
    "plotDistanceMatrix(global_fed_euc_dist, title=\"Federated Global Distance Matrix\")\n",
    "plotDistanceMatrix(euclidean_distances(clustered_dataset), title=\"True Global Distance Matrix\")\n",
    "plotDistanceMatrix(global_pred_euc_dist, title=\"Predicted Global Distance Matrix\")"
   ]
  },
  {
   "cell_type": "code",
   "execution_count": null,
   "id": "6875574b",
   "metadata": {},
   "outputs": [],
   "source": [
    "# Plot outputs\n",
    "# fig = plt.figure(figsize=(7,5))\n",
    "# ax1 = fig.add_subplot(111)\n",
    "\n",
    "# ax1.scatter(global_fed_euc_dist.flatten(), euclidean_distances(clustered_dataset).flatten(), s=10, c='b', marker=\"s\", label='fed_with_true')\n",
    "# ax1.scatter(global_pred_euc_dist.flatten(), euclidean_distances(clustered_dataset).flatten(), s=10, c='r', marker=\"o\", label='pred_with_true')\n",
    "# plt.legend(loc='upper left')\n",
    "# plt.show()"
   ]
  },
  {
   "cell_type": "code",
   "execution_count": null,
   "id": "e32020d4",
   "metadata": {},
   "outputs": [],
   "source": [
    "print(\"Pearson correlation between true and predicted global matrices:\", np.corrcoef(global_true_euc_dist.flatten(),global_pred_euc_dist.flatten())[0,1])\n",
    "print(\"Pearson correlation between true and federated global matrices:\", np.corrcoef(global_true_euc_dist.flatten(),global_fed_euc_dist.flatten())[0,1])\n",
    "print(\"Pearson correlation between federated and predicted global matrices:\", np.corrcoef(global_fed_euc_dist.flatten(),global_pred_euc_dist.flatten())[0,1])"
   ]
  },
  {
   "cell_type": "code",
   "execution_count": null,
   "id": "5da9d6c1",
   "metadata": {},
   "outputs": [],
   "source": [
    "abs(np.nan_to_num(100-((np.linalg.norm(global_fed_euc_dist)/np.linalg.norm(global_true_euc_dist))*100)).mean())"
   ]
  },
  {
   "cell_type": "code",
   "execution_count": null,
   "id": "11f4d42e",
   "metadata": {},
   "outputs": [],
   "source": [
    "global_fed_euc_dist.sum()"
   ]
  },
  {
   "cell_type": "markdown",
   "id": "5ab2c36f",
   "metadata": {},
   "source": [
    "### Observation:\n",
    "* Clustering doesnt depend on number of clients as there distances are all aggregated and fed to the clustering as distance matrix\n",
    "* For 3 dimensional data and 2 clustering it gives very good result (100% accuracy or close to 1)\n",
    "* For Linear Regression, HuberRegressor for 3 dimensional data and 3-9 clustering it gives poor result (5% to 60%) \n",
    "* The accuracy of labeling decreases gradually with the increasing number of clustering defined in the dataset\n",
    "* Difference between each value of actual and predicted distance matrices are in range of (0.00000001 to 3)\n",
    "* Rate of difference might have some relation with the number of clusters or data samples\n",
    "* Higher the dimension of the data points, less error on the predicted distance."
   ]
  },
  {
   "cell_type": "code",
   "execution_count": null,
   "id": "39327f22",
   "metadata": {},
   "outputs": [],
   "source": []
  }
 ],
 "metadata": {
  "interpreter": {
   "hash": "f9f4cf80a710eca280cef1f45ee3941d51e106d6c440e97cb6b1ea00816ab815"
  },
  "kernelspec": {
   "display_name": "Python 3",
   "language": "python",
   "name": "python3"
  },
  "language_info": {
   "codemirror_mode": {
    "name": "ipython",
    "version": 3
   },
   "file_extension": ".py",
   "mimetype": "text/x-python",
   "name": "python",
   "nbconvert_exporter": "python",
   "pygments_lexer": "ipython3",
   "version": "3.9.8"
  }
 },
 "nbformat": 4,
 "nbformat_minor": 5
}
